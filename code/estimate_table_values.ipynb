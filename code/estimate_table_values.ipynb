{
 "cells": [
  {
   "cell_type": "code",
   "execution_count": 1,
   "metadata": {
    "collapsed": true
   },
   "outputs": [],
   "source": [
    "%matplotlib inline\n",
    "import numpy as np\n",
    "import matplotlib.pyplot as plt\n",
    "from pandas import read_csv"
   ]
  },
  {
   "cell_type": "markdown",
   "metadata": {},
   "source": [
    "# Radio Detectability of Hot Jupiters\n",
    "For instruments GMRT, HERA, LOFAR, SKA, UTR-2, VLA, we want to estimate Sensitivity, Time, Resolution, Confusion Limit\n",
    "\n",
    "The radiometer equation:\n",
    "$$\n",
    "\\frac{\\sigma}{1 \\rm~Jy} = 10^{23} \\frac{2 k}{\\lambda^2} \\frac{T_{\\rm sys} \\Omega_{\\rm station}}{\\sqrt{2 B t N^2/2}}\n",
    "$$\n",
    "\n",
    "where $B$ is the bandwidth, $t$ is the observing time, and $N$ is the number of antennas.\n",
    "\n",
    "or, since Omega ~ (lambda / D)^2:\n",
    "\n",
    "$$\n",
    "\\frac{\\sigma}{1 \\rm~Jy} = 10^{23} \\frac{2 k}{D^2} \\frac{T_{\\rm sys}}{\\sqrt{2 B t N^2/2}}\n",
    "$$\n",
    "\n",
    "\n",
    "\n",
    "\n",
    "Galactic synch dominates below 100MHz (Di Matteo+ 2002, Santos, Cooray, Knox 2005, McQuinn+ 2006)\n",
    "\n",
    "Tsys from Rogers & Bowman (2008)  \n",
    "Tsys = Tsky = 237K(nu/150MHz)**-2.52"
   ]
  },
  {
   "cell_type": "code",
   "execution_count": 2,
   "metadata": {
    "collapsed": true
   },
   "outputs": [],
   "source": [
    "kB = 1.38e-16\n",
    "degsq_to_steradians = (np.pi / 180.)**2\n",
    "cc = 3.e10  # in cgs\n",
    "\n",
    "def rms_Jy(observatory, tt, nu=70e6):\n",
    "    \"\"\"\n",
    "    Returns the RMS noise in Jy for an observatory for a certain time and frequency.\n",
    "    \n",
    "    Default frequency is 70 MHz.\n",
    "    \"\"\"\n",
    "    nn = observatory['num_antennas']\n",
    "    Omega = np.pi * (observatory['angle_diam_deg']/2.)**2 * degsq_to_steradians  # in steradians\n",
    "    Tsys = 238 * (nu / 150e6)**(-2.2)\n",
    "    lam = cc / nu\n",
    "    bb = observatory['bandwidth']\n",
    "    prefactor = 1e23 * 2. * kB / lam**2\n",
    "    return prefactor * Tsys * Omega / np.sqrt(2 * bb * tt * nn**2 / 2.)"
   ]
  },
  {
   "cell_type": "code",
   "execution_count": 17,
   "metadata": {
    "collapsed": false
   },
   "outputs": [
    {
     "data": {
      "text/html": [
       "<div style=\"max-height:1000px;max-width:1500px;overflow:auto;\">\n",
       "<table border=\"1\" class=\"dataframe\">\n",
       "  <thead>\n",
       "    <tr style=\"text-align: right;\">\n",
       "      <th></th>\n",
       "      <th>telescope</th>\n",
       "      <th>dish_diam_m</th>\n",
       "      <th>max_baseline_m</th>\n",
       "      <th>num_antennas</th>\n",
       "    </tr>\n",
       "  </thead>\n",
       "  <tbody>\n",
       "    <tr>\n",
       "      <th>0</th>\n",
       "      <td>gmrt</td>\n",
       "      <td>45.00</td>\n",
       "      <td>25000</td>\n",
       "      <td>30</td>\n",
       "    </tr>\n",
       "    <tr>\n",
       "      <th>1</th>\n",
       "      <td>hera</td>\n",
       "      <td>14.00</td>\n",
       "      <td>1000</td>\n",
       "      <td>350</td>\n",
       "    </tr>\n",
       "    <tr>\n",
       "      <th>2</th>\n",
       "      <td>lofar_lba</td>\n",
       "      <td>35.00</td>\n",
       "      <td>100</td>\n",
       "      <td>44</td>\n",
       "    </tr>\n",
       "    <tr>\n",
       "      <th>3</th>\n",
       "      <td>mwa</td>\n",
       "      <td>4.00</td>\n",
       "      <td>1000</td>\n",
       "      <td>128</td>\n",
       "    </tr>\n",
       "    <tr>\n",
       "      <th>4</th>\n",
       "      <td>ska</td>\n",
       "      <td>1.75</td>\n",
       "      <td>65</td>\n",
       "      <td>130000</td>\n",
       "    </tr>\n",
       "    <tr>\n",
       "      <th>5</th>\n",
       "      <td>vla</td>\n",
       "      <td>25.00</td>\n",
       "      <td>36000</td>\n",
       "      <td>29</td>\n",
       "    </tr>\n",
       "    <tr>\n",
       "      <th>6</th>\n",
       "      <td>lwa</td>\n",
       "      <td>2.00</td>\n",
       "      <td>100</td>\n",
       "      <td>256</td>\n",
       "    </tr>\n",
       "  </tbody>\n",
       "</table>\n",
       "</div>"
      ],
      "text/plain": [
       "   telescope  dish_diam_m  max_baseline_m  num_antennas\n",
       "0       gmrt        45.00           25000            30\n",
       "1       hera        14.00            1000           350\n",
       "2  lofar_lba        35.00             100            44\n",
       "3        mwa         4.00            1000           128\n",
       "4        ska         1.75              65        130000\n",
       "5        vla        25.00           36000            29\n",
       "6        lwa         2.00             100           256"
      ]
     },
     "execution_count": 17,
     "metadata": {},
     "output_type": "execute_result"
    }
   ],
   "source": [
    "# get table data\n",
    "observatory_data = read_csv('telescope_data.csv')\n",
    "observatory_data"
   ]
  },
  {
   "cell_type": "code",
   "execution_count": 8,
   "metadata": {
    "collapsed": false
   },
   "outputs": [],
   "source": [
    "# We'll do the calculation assuming 70 MHz and 1 hr, with a bandwidth of 100 MHz\n",
    "# that's a wavelength of 4.3 meters"
   ]
  },
  {
   "cell_type": "code",
   "execution_count": 5,
   "metadata": {
    "collapsed": false
   },
   "outputs": [
    {
     "data": {
      "text/plain": [
       "{'gmrt': {'dish_diam_m': 45.0, 'max_baseline_m': nan, 'num_antennas': 30.0},\n",
       " 'hera': {'dish_diam_m': 14.0,\n",
       "  'max_baseline_m': 1000.0,\n",
       "  'num_antennas': 350.0},\n",
       " 'lofar': {'dish_diam_m': 35.0, 'max_baseline_m': nan, 'num_antennas': nan},\n",
       " 'lwa': {'dish_diam_m': 2.0, 'max_baseline_m': 100.0, 'num_antennas': 256.0},\n",
       " 'mwa': {'dish_diam_m': 4.0, 'max_baseline_m': nan, 'num_antennas': 128.0},\n",
       " 'ska': {'dish_diam_m': nan, 'max_baseline_m': nan, 'num_antennas': nan},\n",
       " 'vla': {'dish_diam_m': 25.0, 'max_baseline_m': nan, 'num_antennas': 29.0}}"
      ]
     },
     "execution_count": 5,
     "metadata": {},
     "output_type": "execute_result"
    }
   ],
   "source": [
    "observatories = {}\n",
    "for ii, observatory in enumerate(observatory_data.telescope):\n",
    "    this_observatory = {}\n",
    "    for this_property in observatory_data:\n",
    "        if this_property == 'telescope':\n",
    "            continue\n",
    "        this_observatory[this_property] = observatory_data[this_property].iloc[ii]\n",
    "    observatories[observatory] = this_observatory\n",
    "observatories"
   ]
  },
  {
   "cell_type": "markdown",
   "metadata": {},
   "source": [
    "# Confusion noise\n",
    "Want 1 source per 10 beams (pixels)  \n",
    "Perley & Ericson (1974)  \n",
    "Wieringa (1991)\n",
    "\n",
    "$$\n",
    "\\sigma^2 = \\int_\\Omega \\int_0^{5 \\sigma / P} s^2 n[s] B[\\Omega]^2 P[\\Omega]^2 ds d\\Omega\n",
    "$$\n",
    "\n",
    "$s$: source flux  \n",
    "$n$: # count at $s$   -- $k s^{-1.65}$ (close to 3/2) ... and $k \\propto \\nu^{-0.7}$  \n",
    "$B$: synthesized beam  \n",
    "$P$: primary beam  \n",
    "$ds$: sources  \n",
    "$d\\Omega$: solid angle\n",
    "\n",
    "Remove all sources above 5$\\sigma$\n",
    "\n",
    "At 150 MHz with MWA, for $P \\sim 30^\\circ$, $B \\sim 3.4'$, we get $\\sigma \\sim 0.1 \\rm~Jy$.\n",
    "\n",
    "$b_{\\rm max}$ is the maximum baseline\n",
    "\n",
    "Should scale as\n",
    "$$\n",
    "\\sigma^2 \\propto \\left( \\frac{\\lambda}{D} \\right)^2  \\left( \\frac{\\lambda}{b_{\\rm max}} \\right)^2 \\, ,\n",
    "$$\n",
    "or\n",
    "$$\n",
    "\\sigma \\propto \\lambda^2 ,\n",
    "$$\n",
    "\n",
    "so at 70 MHz should be a factor of 4 worse.\n",
    "\n",
    "So,\n",
    "\n",
    "$$\n",
    "5\\sigma \\sim 0.1 {\\rm~Jy} \\times \\left( \\frac{\\nu}{150 \\rm~MHz} \\right)^{-2} \\left( \\frac{D}{4 \\rm~m} \\right)^{-2} \\left( \\frac{b_{\\rm max}}{1000 \\rm~m} \\right)^{-2}\n",
    "$$\n",
    "\n",
    "In the dense regime, the $D$ drops out.  In the sparse regime, the $D$ remains.\n",
    "\n",
    "$$\n",
    "\\sigma \\sim 0.2 {\\rm~Jy} \\left( \\frac{\\nu}{1 \\rm~GHz} \\right)^{0.7} \\left( \\frac{\\theta}{1'} \\right)^2\n",
    "$$\n",
    "\n",
    "TODO:  \n",
    "replace $\\theta$ with $\\lambda / D$ and express in $\\nu$ and $D$, and multiply by 5 for crude estimate of $5\\sigma$.  \n",
    "Wait, should it actually be $\\lambda / b_{\\rm max}$??  \n",
    "I'm going to go with that.\n",
    "\n",
    "\\begin{eqnarray}\n",
    "5 \\sigma & \\sim {\\rm~Jy} \\left( \\frac{\\nu}{1 \\rm~GHz} \\right)^{0.7} \\left( \\frac{\\lambda / b_{\\rm max}}{1'} \\frac{60'}{1^\\circ} \\frac{180^\\circ}{\\pi \\rm~radians} \\right)^2 \\\\\\\n",
    " & = 1.18 \\times 10^7 {\\rm~Jy} \\left( \\frac{\\nu}{1 \\rm~GHz} \\right)^{0.7} \\left( \\frac{\\lambda}{b_{\\rm max}} \\right)^2 \\\\\\\n",
    " & = 1.18 \\times 10^7 {\\rm~Jy} \\left( \\frac{\\nu}{1 \\rm~GHz} \\right)^{0.7} \\left( \\lambda \\right)^2 \\left( b_{\\rm max} \\right)^{-2} \\\\\\\n",
    " & = 1.18 \\times 10^7 {\\rm~Jy} \\left( \\frac{\\nu}{1 \\rm~GHz} \\right)^{0.7} \\left( c / \\nu \\right)^2 \\left( b_{\\rm max} \\right)^{-2} \\\\\\\n",
    " & = 1.06 \\times 10^{17} {\\rm~Jy} \\left( \\frac{\\nu}{1 \\rm~GHz} \\right)^{0.7} {\\rm~m^2~s^{-2}} \\left( \\nu \\right)^{-2} \\left( D \\right)^{-2} \\\\\\\n",
    " & = 1.06 \\times 10^{17} {\\rm~Jy} \\left( \\frac{\\nu}{1 \\rm~GHz} \\right)^{0.7} {\\rm~m^2~s^{-2}} \\left(10^9 \\rm~Hz \\right)^{-2} \\left( \\frac{\\nu}{1 \\rm~GHz} \\right)^{-2} \\left( b_{\\rm max} \\right)^{-2} \\\\\\\n",
    " & = 0.106 {\\rm~Jy} \\left( \\frac{\\nu}{1 \\rm~GHz} \\right)^{0.7} {\\rm~m^2} \\left( \\frac{\\nu}{1 \\rm~GHz} \\right)^{-2} \\left( b_{\\rm max} \\right)^{-2} \\\\\\\n",
    " & = 0.106 {\\rm~Jy} \\left( \\frac{\\nu}{1 \\rm~GHz} \\right)^{-1.3} {\\rm~m^2} ({1000 \\rm~m})^{-2} \\left( \\frac{b_{\\rm max}}{1000 \\rm~m} \\right)^{-2} \\\\\\\n",
    " & = 1.06 \\times 10^{-7} {\\rm~Jy} \\left( \\frac{\\nu}{1 \\rm~GHz} \\right)^{-1.3} \\left( \\frac{b_{\\rm max}}{1000 \\rm~m} \\right)^{-2} \\\\\\\n",
    " & = 1.06 \\times 10^{-6} {\\rm~Jy} \\left( \\frac{\\nu}{150 \\rm~MHz} \\right)^{-1.3} \\left( \\frac{b_{\\rm max}}{1000 \\rm~m} \\right)^{-2} \\\\\\\n",
    " & = 3.36 \\times 10^{-6} {\\rm~Jy} \\left( \\frac{\\nu}{70 \\rm~MHz} \\right)^{-1.3} \\left( \\frac{b_{\\rm max}}{1000 \\rm~m} \\right)^{-2} \\\\\\\n",
    "\\end{eqnarray}\n",
    "\n",
    "I just did this in terms of $\\lambda/D$, but should it actually have been in terms of $\\lambda / b_{\\rm max}$???  I think so... If so, it turns into:\n",
    "$$\n",
    "5\\sigma = 0.21 {\\rm~Jy} \\left( \\frac{\\nu}{70 \\rm~MHz} \\right)^{-1.3} \\left( \\frac{D}{1000 \\rm~m} \\right)^{-2}\n",
    "$$\n",
    "dense limit applies to GMRT?, HERA, LOFAR, MWA, SKA, VLA?, LWA\n",
    "\n",
    "configuration A for VLA to maximize resolution."
   ]
  },
  {
   "cell_type": "code",
   "execution_count": 30,
   "metadata": {
    "collapsed": true
   },
   "outputs": [],
   "source": []
  },
  {
   "cell_type": "code",
   "execution_count": null,
   "metadata": {
    "collapsed": true
   },
   "outputs": [],
   "source": []
  }
 ],
 "metadata": {
  "kernelspec": {
   "display_name": "Python 2",
   "language": "python",
   "name": "python2"
  },
  "language_info": {
   "codemirror_mode": {
    "name": "ipython",
    "version": 2
   },
   "file_extension": ".py",
   "mimetype": "text/x-python",
   "name": "python",
   "nbconvert_exporter": "python",
   "pygments_lexer": "ipython2",
   "version": "2.7.9"
  }
 },
 "nbformat": 4,
 "nbformat_minor": 0
}
