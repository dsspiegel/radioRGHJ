{
 "cells": [
  {
   "cell_type": "code",
   "execution_count": 120,
   "metadata": {
    "collapsed": false
   },
   "outputs": [],
   "source": [
    "import numpy as np\n",
    "from scipy.integrate import quad\n",
    "from scipy import constants\n",
    "\n",
    "Mj = 1.0\n",
    "Mp = 10*Mj\n",
    "orbit = 1.0 # AU\n",
    "pc_to_cm = 3.085677581e18 # cm\n",
    "\n"
   ]
  },
  {
   "cell_type": "code",
   "execution_count": 121,
   "metadata": {
    "collapsed": true
   },
   "outputs": [],
   "source": [
    "# cgs unit\n",
    "from scipy import constants\n",
    "CC = constants.c*1e2\n",
    "HH = constants.h*1e7\n",
    "KK = constants.k*1e7\n",
    "GG = constants.g*1e2\n",
    "RR = constants.R*1e7\n",
    "NA = constants.N_A\n",
    "SIGMA = constants.sigma*1e3\n",
    "AMU = 1.661e-24"
   ]
  },
  {
   "cell_type": "code",
   "execution_count": 122,
   "metadata": {
    "collapsed": false
   },
   "outputs": [],
   "source": [
    "def planck(wl, *args):\n",
    "    \"\"\"\n",
    "    Returns the Planck function evaluated at wavelength wl and temperature temp.\n",
    "    \"\"\"\n",
    "    wl = np.array(wl)\n",
    "    temp, = args\n",
    "    fac = HH * CC / (wl * KK * temp)\n",
    "    return (2.0 * HH * CC**2 / (wl**5)) * (1. / (np.exp(fac) - 1.))"
   ]
  },
  {
   "cell_type": "code",
   "execution_count": 123,
   "metadata": {
    "collapsed": true
   },
   "outputs": [],
   "source": [
    "def planck_dIdnu(nu, *args):\n",
    "    \"\"\"\n",
    "    Returns the Planck function evaluated at wavelength wl and temperature temp.\n",
    "    \"\"\"\n",
    "    nu = np.array(nu)\n",
    "    temp, = args\n",
    "    fac = HH * nu / (KK * temp)\n",
    "    return (2.0 * HH * nu**3 / (CC**2)) * (1. / (np.exp(fac) - 1.))"
   ]
  },
  {
   "cell_type": "code",
   "execution_count": 124,
   "metadata": {
    "collapsed": false
   },
   "outputs": [],
   "source": [
    "def planck_photon(wl, *args):\n",
    "    \"\"\"\n",
    "    Returns the thermal intensity of photons at wavelength wl and temperature temp.\n",
    "    \"\"\"\n",
    "    wl = np.array(wl)\n",
    "    energy_intensity = planck(wl, *args)\n",
    "    energy_per_photon = HH * CC / wl\n",
    "    return energy_intensity / energy_per_photon"
   ]
  },
  {
   "cell_type": "code",
   "execution_count": 125,
   "metadata": {
    "collapsed": false
   },
   "outputs": [
    {
     "name": "stdout",
     "output_type": "stream",
     "text": [
      "[ 0.  0.]\n",
      "[ 0.  0.]\n"
     ]
    },
    {
     "name": "stderr",
     "output_type": "stream",
     "text": [
      "/opt/local/Library/Frameworks/Python.framework/Versions/2.7/lib/python2.7/site-packages/IPython/kernel/__main__.py:8: RuntimeWarning: overflow encountered in exp\n"
     ]
    }
   ],
   "source": [
    "wls = [1.e-6, 2.e-6]\n",
    "temp = 300.\n",
    "print planck(wls, temp)\n",
    "print planck_photon(wls, temp)"
   ]
  },
  {
   "cell_type": "code",
   "execution_count": 126,
   "metadata": {
    "collapsed": false
   },
   "outputs": [
    {
     "name": "stdout",
     "output_type": "stream",
     "text": [
      "1350778.498\n",
      "1356840.56849\n"
     ]
    },
    {
     "name": "stderr",
     "output_type": "stream",
     "text": [
      "/opt/local/Library/Frameworks/Python.framework/Versions/2.7/lib/python2.7/site-packages/IPython/kernel/__main__.py:8: RuntimeWarning: overflow encountered in exp\n"
     ]
    }
   ],
   "source": [
    "# check with Solar Constant\n",
    "Rsun_to_AU = 0.0046\n",
    "print quad(planck, 0.01e-4, 5.0e-4, args=(5800.0,))[0]*Rsun_to_AU**2*np.pi\n",
    "\n",
    "\n",
    "print quad(planck_dIdnu, 3e13, 3e+18, args=(5800.0,))[0]*Rsun_to_AU**2*np.pi"
   ]
  },
  {
   "cell_type": "code",
   "execution_count": 127,
   "metadata": {
    "collapsed": true
   },
   "outputs": [],
   "source": [
    "# accretion temperature\n",
    "Tacc=1e5*(Mp/Mj) # K\n",
    "\n",
    "# accretion luminosity\n",
    "Luminosity = 1e25*(Mp/Mj)**3 # erg/sec\n",
    "\n",
    "# \"class B\" recombination rate\n",
    "beta = 2.74e-14*(Mp/Mj)**(-3.0/4.0) # cm^3 / sec"
   ]
  },
  {
   "cell_type": "code",
   "execution_count": 128,
   "metadata": {
    "collapsed": false
   },
   "outputs": [
    {
     "name": "stdout",
     "output_type": "stream",
     "text": [
      "5.67037176037e+19\n"
     ]
    },
    {
     "name": "stderr",
     "output_type": "stream",
     "text": [
      "/opt/local/Library/Frameworks/Python.framework/Versions/2.7/lib/python2.7/site-packages/IPython/kernel/__main__.py:8: RuntimeWarning: overflow encountered in exp\n"
     ]
    }
   ],
   "source": [
    "planck_integrated = quad(planck, 0, 1.0e-4, args=(Tacc))[0]*np.pi\n",
    "print planck_integrated"
   ]
  },
  {
   "cell_type": "code",
   "execution_count": 129,
   "metadata": {
    "collapsed": false
   },
   "outputs": [
    {
     "name": "stdout",
     "output_type": "stream",
     "text": [
      "176355280.087\n"
     ]
    }
   ],
   "source": [
    "# denoting that surface area by \"surface\", \n",
    "###  surface * planck_integrated = Luminosity\n",
    "###  surface =  Luminosity  / planck_integrated \n",
    "\n",
    "surface = Luminosity  / planck_integrated \n",
    "print surface"
   ]
  },
  {
   "cell_type": "code",
   "execution_count": 130,
   "metadata": {
    "collapsed": false
   },
   "outputs": [
    {
     "data": {
      "text/plain": [
       "176355241.53349352"
      ]
     },
     "execution_count": 130,
     "metadata": {},
     "output_type": "execute_result"
    }
   ],
   "source": [
    "Luminosity / ( SIGMA*Tacc**4 )"
   ]
  },
  {
   "cell_type": "code",
   "execution_count": 131,
   "metadata": {
    "collapsed": false
   },
   "outputs": [
    {
     "name": "stdout",
     "output_type": "stream",
     "text": [
      "91.2888641208 [nm]\n"
     ]
    }
   ],
   "source": [
    "# Suppose photons with energy > 13.6 eV can ionize hydrogen\n",
    "\n",
    "eV_to_Joule = 1.6e-19\n",
    "eV_to_erg = eV_to_Joule * 1e7\n",
    "wl_ionize = HH * CC / (13.6 * eV_to_erg )\n",
    "print wl_ionize*1e7, \"[nm]\""
   ]
  },
  {
   "cell_type": "code",
   "execution_count": 132,
   "metadata": {
    "collapsed": false
   },
   "outputs": [
    {
     "name": "stdout",
     "output_type": "stream",
     "text": [
      "2.66827340875e+37 [s^-1]\n"
     ]
    },
    {
     "name": "stderr",
     "output_type": "stream",
     "text": [
      "/opt/local/Library/Frameworks/Python.framework/Versions/2.7/lib/python2.7/site-packages/IPython/kernel/__main__.py:8: RuntimeWarning: overflow encountered in exp\n"
     ]
    }
   ],
   "source": [
    "# photons per second\n",
    "\n",
    "source = surface * np.pi * quad(planck_photon, 0, wl_ionize, args=(Tacc))[0]\n",
    "print source, \"[s^-1]\""
   ]
  },
  {
   "cell_type": "code",
   "execution_count": 133,
   "metadata": {
    "collapsed": true
   },
   "outputs": [],
   "source": [
    "# DSS COMMENT: I recommend not using \"magic numbers\"\n",
    "# https://en.wikipedia.org/wiki/Magic_number_(programming)#Unnamed_numerical_constants\n",
    "# I assume the 5.0 is AU?  I don't know what the 1e3 or the 1.8e6 are, though.\n",
    "# It would be easier to follow the code if you replace all magic numbers with named constants.\n",
    "# You can use some judgment here, like the \"**(-2)\" exponent doesn't need to be named,\n",
    "# but I would name nearly everything else -- even obvious things like 13.6, which could be\n",
    "# named \"Rydberg\" or something similar.\n",
    "\n",
    "\n",
    "# YF temporary comment\n",
    "# \"1.8e6\" comes from equation (18) of the manuscript \n",
    "density = 1.8e6 * (orbit / 5.0 )**(-2) # [cm^{-3}]"
   ]
  },
  {
   "cell_type": "code",
   "execution_count": 134,
   "metadata": {
    "collapsed": false
   },
   "outputs": [
    {
     "name": "stdout",
     "output_type": "stream",
     "text": [
      "0.0222333151794 [AU]\n"
     ]
    }
   ],
   "source": [
    "# DSS COMMENT: Isn't the calculation up to here in MKS, not cgs?  Do we want AU_to_m instead?\n",
    "# Not sure about this one....\n",
    "AU_to_cm = 1.49597870700e13\n",
    "stromgren = 3.0 / ( 4.0 * np.pi ) * ( source / ( density**2 * beta ) )**(1.0/3.0) / AU_to_cm\n",
    "print stromgren, \"[AU]\""
   ]
  },
  {
   "cell_type": "code",
   "execution_count": 135,
   "metadata": {
    "collapsed": false
   },
   "outputs": [
    {
     "name": "stdout",
     "output_type": "stream",
     "text": [
      "0.000467326170305\n"
     ]
    }
   ],
   "source": [
    "Mjupiter = 6.9911e9 # cm\n",
    "AU = 1.495978707e13 # cm\n",
    "Mjupiter_to_AU = Mjupiter / AU\n",
    "print Mjupiter_to_AU"
   ]
  },
  {
   "cell_type": "code",
   "execution_count": 136,
   "metadata": {
    "collapsed": false
   },
   "outputs": [
    {
     "data": {
      "text/plain": [
       "47.57558337664553"
      ]
     },
     "execution_count": 136,
     "metadata": {},
     "output_type": "execute_result"
    }
   ],
   "source": [
    "stromgren / Mjupiter_to_AU"
   ]
  },
  {
   "cell_type": "code",
   "execution_count": 137,
   "metadata": {
    "collapsed": false
   },
   "outputs": [
    {
     "data": {
      "text/plain": [
       "4.5284472304198582e-24"
      ]
     },
     "execution_count": 137,
     "metadata": {},
     "output_type": "execute_result"
    }
   ],
   "source": [
    "erg_s_cm_Hz_to_Jy = 1e23\n",
    "surface * planck_dIdnu(1e9, 1e6) / ( 4. * np.pi * (100.0*pc_to_cm )**2 ) * erg_s_cm_Hz_to_Jy \n"
   ]
  },
  {
   "cell_type": "code",
   "execution_count": null,
   "metadata": {
    "collapsed": true
   },
   "outputs": [],
   "source": []
  },
  {
   "cell_type": "code",
   "execution_count": null,
   "metadata": {
    "collapsed": true
   },
   "outputs": [],
   "source": [
    " planck_dIdnu(1e9, 1e6)"
   ]
  },
  {
   "cell_type": "code",
   "execution_count": null,
   "metadata": {
    "collapsed": true
   },
   "outputs": [],
   "source": []
  }
 ],
 "metadata": {
  "kernelspec": {
   "display_name": "Python 2",
   "language": "python",
   "name": "python2"
  },
  "language_info": {
   "codemirror_mode": {
    "name": "ipython",
    "version": 2
   },
   "file_extension": ".py",
   "mimetype": "text/x-python",
   "name": "python",
   "nbconvert_exporter": "python",
   "pygments_lexer": "ipython2",
   "version": "2.7.10"
  }
 },
 "nbformat": 4,
 "nbformat_minor": 0
}
