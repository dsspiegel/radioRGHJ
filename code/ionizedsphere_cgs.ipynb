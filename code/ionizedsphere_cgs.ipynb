{
 "cells": [
  {
   "cell_type": "code",
   "execution_count": 1,
   "metadata": {
    "collapsed": false
   },
   "outputs": [],
   "source": [
    "import numpy as np\n",
    "from scipy.integrate import quad\n",
    "from scipy import constants\n",
    "import matplotlib.pyplot as plt\n",
    "%matplotlib inline\n",
    "\n",
    "pc_to_cm = 3.085677581e18 # cm\n",
    "\n",
    "Mjupiter = 2e30;\n",
    "Rjupiter = 6.9911e9 # cm\n",
    "AU = 1.495978707e13 # cm"
   ]
  },
  {
   "cell_type": "code",
   "execution_count": 2,
   "metadata": {
    "collapsed": true
   },
   "outputs": [],
   "source": [
    "# cgs unit\n",
    "from scipy import constants\n",
    "CC = constants.c*1e2\n",
    "HH = constants.h*1e7\n",
    "KK = constants.k*1e7\n",
    "GG = constants.g*1e2\n",
    "RR = constants.R*1e7\n",
    "NA = constants.N_A\n",
    "SIGMA = constants.sigma*1e3\n",
    "AMU = 1.661e-24"
   ]
  },
  {
   "cell_type": "code",
   "execution_count": 3,
   "metadata": {
    "collapsed": false
   },
   "outputs": [],
   "source": [
    "def planck(wl, *args):\n",
    "    \"\"\"\n",
    "    Returns the Planck function evaluated at wavelength wl and temperature temp.\n",
    "    \"\"\"\n",
    "    wl = np.array(wl)\n",
    "    temp, = args\n",
    "    fac = HH * CC / (wl * KK * temp)\n",
    "    return (2.0 * HH * CC**2 / (wl**5)) * (1. / (np.exp(fac) - 1.))"
   ]
  },
  {
   "cell_type": "code",
   "execution_count": 4,
   "metadata": {
    "collapsed": true
   },
   "outputs": [],
   "source": [
    "def planck_dIdnu(nu, *args):\n",
    "    \"\"\"\n",
    "    Returns the Planck function evaluated at wavelength wl and temperature temp.\n",
    "    \"\"\"\n",
    "    nu = np.array(nu)\n",
    "    temp, = args\n",
    "    fac = HH * nu / (KK * temp)\n",
    "    return (2.0 * HH * nu**3 / (CC**2)) * (1. / (np.exp(fac) - 1.))"
   ]
  },
  {
   "cell_type": "code",
   "execution_count": 5,
   "metadata": {
    "collapsed": false
   },
   "outputs": [],
   "source": [
    "def planck_photon(wl, *args):\n",
    "    \"\"\"\n",
    "    Returns the thermal intensity of photons at wavelength wl and temperature temp.\n",
    "    \"\"\"\n",
    "    wl = np.array(wl)\n",
    "    energy_intensity = planck(wl, *args)\n",
    "    energy_per_photon = HH * CC / wl\n",
    "    return energy_intensity / energy_per_photon"
   ]
  },
  {
   "cell_type": "code",
   "execution_count": 6,
   "metadata": {
    "collapsed": false
   },
   "outputs": [
    {
     "name": "stdout",
     "output_type": "stream",
     "text": [
      "[ 0.  0.]\n",
      "[ 0.  0.]\n"
     ]
    },
    {
     "name": "stderr",
     "output_type": "stream",
     "text": [
      "/usr/local/lib/python2.7/site-packages/IPython/kernel/__main__.py:8: RuntimeWarning: overflow encountered in exp\n"
     ]
    }
   ],
   "source": [
    "wls = [1.e-6, 2.e-6]\n",
    "temp = 300.\n",
    "print planck(wls, temp)\n",
    "print planck_photon(wls, temp)"
   ]
  },
  {
   "cell_type": "code",
   "execution_count": 7,
   "metadata": {
    "collapsed": false
   },
   "outputs": [
    {
     "name": "stdout",
     "output_type": "stream",
     "text": [
      "1350778.498\n",
      "1356840.56849\n"
     ]
    },
    {
     "name": "stderr",
     "output_type": "stream",
     "text": [
      "/usr/local/lib/python2.7/site-packages/IPython/kernel/__main__.py:8: RuntimeWarning: overflow encountered in exp\n"
     ]
    }
   ],
   "source": [
    "# check with Solar Constant\n",
    "Rsun_to_AU = 0.0046\n",
    "print quad(planck, 0.01e-4, 5.0e-4, args=(5800.0,))[0]*Rsun_to_AU**2*np.pi\n",
    "\n",
    "\n",
    "print quad(planck_dIdnu, 3e13, 3e+18, args=(5800.0,))[0]*Rsun_to_AU**2*np.pi"
   ]
  },
  {
   "cell_type": "code",
   "execution_count": 8,
   "metadata": {
    "collapsed": false
   },
   "outputs": [],
   "source": [
    "# mass, orbitMj = 1.0\n",
    "Mp = 10 * Mjupiter\n",
    "orbit = 5.0 # AU\n",
    "\n",
    "# accretion temperature\n",
    "Tacc=1e5 * (Mp/Mjupiter) # K\n",
    "\n",
    "# accretion luminosity\n",
    "Luminosity = 1e25 * (Mp/Mjupiter)**3 # erg/sec\n",
    "\n",
    "# \"class B\" recombination rate\n",
    "beta = 2.74e-14 * (Mp/Mjupiter)**(-3.0/4.0) # cm^3 / sec"
   ]
  },
  {
   "cell_type": "code",
   "execution_count": 9,
   "metadata": {
    "collapsed": false
   },
   "outputs": [
    {
     "name": "stdout",
     "output_type": "stream",
     "text": [
      "5.67037176037e+19\n"
     ]
    },
    {
     "name": "stderr",
     "output_type": "stream",
     "text": [
      "/usr/local/lib/python2.7/site-packages/IPython/kernel/__main__.py:8: RuntimeWarning: overflow encountered in exp\n"
     ]
    }
   ],
   "source": [
    "planck_integrated = quad(planck, 0, 1.0e-4, args=(Tacc))[0]*np.pi\n",
    "print planck_integrated"
   ]
  },
  {
   "cell_type": "code",
   "execution_count": 10,
   "metadata": {
    "collapsed": false
   },
   "outputs": [
    {
     "name": "stdout",
     "output_type": "stream",
     "text": [
      "176355280.087\n"
     ]
    }
   ],
   "source": [
    "# denoting that surface area by \"surface\", \n",
    "###  surface * planck_integrated = Luminosity\n",
    "###  surface =  Luminosity  / planck_integrated \n",
    "\n",
    "surface = Luminosity  / planck_integrated \n",
    "print surface"
   ]
  },
  {
   "cell_type": "code",
   "execution_count": 11,
   "metadata": {
    "collapsed": false
   },
   "outputs": [
    {
     "data": {
      "text/plain": [
       "176355241.53349352"
      ]
     },
     "execution_count": 11,
     "metadata": {},
     "output_type": "execute_result"
    }
   ],
   "source": [
    "Luminosity / ( SIGMA*Tacc**4 )"
   ]
  },
  {
   "cell_type": "code",
   "execution_count": 12,
   "metadata": {
    "collapsed": false
   },
   "outputs": [
    {
     "name": "stdout",
     "output_type": "stream",
     "text": [
      "91.2888641208 [nm]\n"
     ]
    }
   ],
   "source": [
    "# Suppose photons with energy > 13.6 eV can ionize hydrogen\n",
    "\n",
    "eV_to_Joule = 1.6e-19\n",
    "eV_to_erg = eV_to_Joule * 1e7\n",
    "wl_ionize = HH * CC / (13.6 * eV_to_erg )\n",
    "print wl_ionize*1e7, \"[nm]\""
   ]
  },
  {
   "cell_type": "code",
   "execution_count": 13,
   "metadata": {
    "collapsed": false
   },
   "outputs": [
    {
     "name": "stdout",
     "output_type": "stream",
     "text": [
      "2.66827340875e+37 [s^-1]\n"
     ]
    },
    {
     "name": "stderr",
     "output_type": "stream",
     "text": [
      "/usr/local/lib/python2.7/site-packages/IPython/kernel/__main__.py:8: RuntimeWarning: overflow encountered in exp\n"
     ]
    }
   ],
   "source": [
    "# photons per second\n",
    "\n",
    "source = surface * np.pi * quad(planck_photon, 0, wl_ionize, args=(Tacc))[0]\n",
    "print source, \"[s^-1]\""
   ]
  },
  {
   "cell_type": "code",
   "execution_count": 14,
   "metadata": {
    "collapsed": false
   },
   "outputs": [
    {
     "name": "stdout",
     "output_type": "stream",
     "text": [
      "7.24297156525e+37\n"
     ]
    }
   ],
   "source": [
    "energy_per_photon = Tacc * KK\n",
    "ndot_photons = Luminosity / energy_per_photon\n",
    "print ndot_photons"
   ]
  },
  {
   "cell_type": "code",
   "execution_count": 15,
   "metadata": {
    "collapsed": true
   },
   "outputs": [],
   "source": [
    "# DSS COMMENT: I recommend not using \"magic numbers\"\n",
    "# https://en.wikipedia.org/wiki/Magic_number_(programming)#Unnamed_numerical_constants\n",
    "# I assume the 5.0 is AU?  I don't know what the 1e3 or the 1.8e6 are, though.\n",
    "# It would be easier to follow the code if you replace all magic numbers with named constants.\n",
    "# You can use some judgment here, like the \"**(-2)\" exponent doesn't need to be named,\n",
    "# but I would name nearly everything else -- even obvious things like 13.6, which could be\n",
    "# named \"Rydberg\" or something similar.\n",
    "\n",
    "\n",
    "# YF temporary comment\n",
    "# \"1.8e6\" comes from equation (18) of the manuscript \n",
    "density = 1.8e6 * (orbit / 5.0 )**(-2) # [cm^{-3}]"
   ]
  },
  {
   "cell_type": "code",
   "execution_count": 16,
   "metadata": {
    "collapsed": false
   },
   "outputs": [
    {
     "name": "stdout",
     "output_type": "stream",
     "text": [
      "0.190092170859 [AU]\n"
     ]
    }
   ],
   "source": [
    "# DSS COMMENT: Isn't the calculation up to here in MKS, not cgs?  Do we want AU_to_m instead?\n",
    "# Not sure about this one....\n",
    "AU_to_cm = 1.49597870700e13\n",
    "stromgren = 3.0 / ( 4.0 * np.pi ) * ( source / ( density**2 * beta ) )**(1.0/3.0) / AU_to_cm\n",
    "print stromgren, \"[AU]\""
   ]
  },
  {
   "cell_type": "code",
   "execution_count": 17,
   "metadata": {
    "collapsed": false
   },
   "outputs": [
    {
     "name": "stdout",
     "output_type": "stream",
     "text": [
      "0.000467326170305\n"
     ]
    }
   ],
   "source": [
    "Rjupiter_to_AU = Rjupiter / AU\n",
    "print Rjupiter_to_AU"
   ]
  },
  {
   "cell_type": "code",
   "execution_count": 18,
   "metadata": {
    "collapsed": false
   },
   "outputs": [
    {
     "data": {
      "text/plain": [
       "406.7655161158778"
      ]
     },
     "execution_count": 18,
     "metadata": {},
     "output_type": "execute_result"
    }
   ],
   "source": [
    "stromgren / Rjupiter_to_AU"
   ]
  },
  {
   "cell_type": "code",
   "execution_count": 19,
   "metadata": {
    "collapsed": false
   },
   "outputs": [
    {
     "data": {
      "text/plain": [
       "4.5284472304198582e-24"
      ]
     },
     "execution_count": 19,
     "metadata": {},
     "output_type": "execute_result"
    }
   ],
   "source": [
    "erg_s_cm_Hz_to_Jy = 1e23\n",
    "surface * planck_dIdnu(1e9, 1e6) / ( 4. * np.pi * (100.0*pc_to_cm )**2 ) * erg_s_cm_Hz_to_Jy \n"
   ]
  },
  {
   "cell_type": "code",
   "execution_count": 20,
   "metadata": {
    "collapsed": false
   },
   "outputs": [
    {
     "name": "stdout",
     "output_type": "stream",
     "text": [
      "2.46642300904e-20\n",
      "Mean Free Path: 1.506 AU\n",
      "Mean Free Path: 3221.918 Rjup\n"
     ]
    }
   ],
   "source": [
    "# from http://ned.ipac.caltech.edu/level5/Madau6/Madau1_2.html eq. (4)\n",
    "\n",
    "Rydberg_eV = 13.6 # eV\n",
    "Rydberg_erg = Rydberg_eV * eV_to_erg # erg\n",
    "sigma_L = 6.3e-18 # in cm^2\n",
    "sigma_H = sigma_L * (energy_per_photon / Rydberg_erg)**(-3.)\n",
    "print sigma_H\n",
    "mfp = 1. / (density * sigma_H) # mean free path\n",
    "print 'Mean Free Path: %1.3f AU' % (mfp / AU)\n",
    "print 'Mean Free Path: %1.3f Rjup' % (mfp / Rjupiter)"
   ]
  },
  {
   "cell_type": "markdown",
   "metadata": {},
   "source": [
    "# Considering the balance between inoization rate and recombination rate\n",
    "\n",
    "http://ned.ipac.caltech.edu/level5/Madau6/Madau1_2.html\n",
    "\n",
    "\n",
    "- $\\alpha $ : ionization fraction\n",
    "- $E_{\\rm photon}$ : photon energy\n",
    "- $T _e$ : electron temperature\n",
    "- $\\beta [T_e] $ : recombination rate $=2.6 \\times 10^{-13} [{\\rm cm^3/sec}]\\cdot\\left(\\frac{T_e}{10^{4}} \\right)^{-3/4}$\n",
    "- $ \\sigma _H [E_{\\rm photon}] $ : cross section for X-ray, $= 6.3 \\times 10^{-18} [{\\rm cm}^2] \\cdot \\left( \\frac{E_{\\rm photon}}{E_{\\rm Rydberg}} \\right)^{-3} $\n",
    "\n",
    "Assuming an equlibrium state (?),\n",
    "\n",
    "$ \\frac{S}{ 4 \\pi r^2 } n ( 1-\\alpha ) \\sigma _H [E_{\\rm photon}] = n^2 \\alpha^2 \\beta [T_e]  $\n",
    "\n",
    "$\\Rightarrow  \\left( \\frac{4 \\pi r^2 n \\beta [T_e] }{S \\sigma_H[E_{\\rm photon}]} \\right) \\alpha ^2 + \\alpha - 1 = 0 $\n",
    "\n",
    "\n"
   ]
  },
  {
   "cell_type": "code",
   "execution_count": 21,
   "metadata": {
    "collapsed": false
   },
   "outputs": [
    {
     "name": "stdout",
     "output_type": "stream",
     "text": [
      "energy_per_photon: 1.3806488e-10\n",
      "ndot_photon: 7.24297156525e+37\n"
     ]
    }
   ],
   "source": [
    "orbit = 5.\n",
    "Tacc=1e6\n",
    "Luminosity=1e28\n",
    "energy_per_photon = Tacc * KK\n",
    "ndot_photon =  Luminosity / energy_per_photon\n",
    "print \"energy_per_photon:\", energy_per_photon\n",
    "print \"ndot_photon:\", ndot_photon\n",
    "\n",
    "# YF temporary comment\n",
    "# \"1.8e6\" comes from equation (18) of the manuscript \n",
    "density = 1.8e6 * (orbit / 5.0 )**(-2) # [cm^{-3}]"
   ]
  },
  {
   "cell_type": "code",
   "execution_count": 22,
   "metadata": {
    "collapsed": false
   },
   "outputs": [
    {
     "name": "stdout",
     "output_type": "stream",
     "text": [
      "2.176e-11\n",
      "2.46642300904e-20\n"
     ]
    }
   ],
   "source": [
    "Rydberg_eV = 13.6 # eV\n",
    "Rydberg_erg = Rydberg_eV * eV_to_erg # erg\n",
    "print Rydberg_erg\n",
    "sigma_L = 6.3e-18 # in cm^2\n",
    "sigma_H = sigma_L * (energy_per_photon / Rydberg_erg)**(-3.)\n",
    "print sigma_H"
   ]
  },
  {
   "cell_type": "code",
   "execution_count": 23,
   "metadata": {
    "collapsed": false
   },
   "outputs": [],
   "source": [
    "T_e = 1e4\n",
    "beta = 2.6e-13 * (T_e/1e4)**(-3./4.)"
   ]
  },
  {
   "cell_type": "code",
   "execution_count": 24,
   "metadata": {
    "collapsed": false
   },
   "outputs": [],
   "source": [
    "def ionization_fraction(radius):\n",
    "    a = density*beta*4.*np.pi*radius**2/ndot_photon/sigma_H\n",
    "    b = 1.\n",
    "    c = -1.\n",
    "    numerator = -1.*b + np.sqrt( b**2 - 4.*a*c )\n",
    "    denominator = 2.*a\n",
    "    return numerator/denominator"
   ]
  },
  {
   "cell_type": "code",
   "execution_count": 25,
   "metadata": {
    "collapsed": false
   },
   "outputs": [],
   "source": [
    "r_tics = np.linspace(1, 500, 500)\n",
    "y_tics = ionization_fraction(r_tics*Rjupiter)"
   ]
  },
  {
   "cell_type": "code",
   "execution_count": 26,
   "metadata": {
    "collapsed": false
   },
   "outputs": [
    {
     "data": {
      "image/png": "[encoded data removed]",
      "text/plain": [
       "<matplotlib.figure.Figure at 0x10b70ab10>"
      ]
     },
     "metadata": {},
     "output_type": "display_data"
    }
   ],
   "source": [
    "plt.plot(r_tics, y_tics)\n",
    "plt.title('M = 10 Mjupiter')\n",
    "plt.xlabel(\"distance from planet [Rjupiter]\")\n",
    "plt.ylabel(\"ionization fraction\")\n",
    "plt.ylim(0,1)\n",
    "plt.show()"
   ]
  },
  {
   "cell_type": "code",
   "execution_count": null,
   "metadata": {
    "collapsed": true
   },
   "outputs": [],
   "source": []
  }
 ],
 "metadata": {
  "kernelspec": {
   "display_name": "Python 2",
   "language": "python",
   "name": "python2"
  },
  "language_info": {
   "codemirror_mode": {
    "name": "ipython",
    "version": 2
   },
   "file_extension": ".py",
   "mimetype": "text/x-python",
   "name": "python",
   "nbconvert_exporter": "python",
   "pygments_lexer": "ipython2",
   "version": "2.7.10"
  }
 },
 "nbformat": 4,
 "nbformat_minor": 0
}
