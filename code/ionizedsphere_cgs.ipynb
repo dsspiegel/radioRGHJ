{
 "cells": [
  {
   "cell_type": "code",
   "execution_count": 1,
   "metadata": {
    "collapsed": false
   },
   "outputs": [],
   "source": [
    "import numpy as np\n",
    "from scipy.integrate import quad\n",
    "from scipy import constants\n",
    "import matplotlib.pyplot as plt\n",
    "%matplotlib inline\n",
    "\n",
    "pc_to_cm = 3.085677581e18 # cm\n",
    "\n",
    "Mjupiter = 2e30\n",
    "Rjupiter = 6.9911e9 # cm\n",
    "Msun = 2e33\n",
    "Rsun = 6.96300e10 # cm\n",
    "AU = 1.495978707e13 # cm\n",
    "\n",
    "Rydberg_eV = 13.6 # eV\n",
    "eV_to_Joule = 1.6e-19\n",
    "eV_to_erg = eV_to_Joule * 1e7\n",
    "Rydberg_erg = Rydberg_eV * eV_to_erg # erg"
   ]
  },
  {
   "cell_type": "code",
   "execution_count": 2,
   "metadata": {
    "collapsed": false
   },
   "outputs": [],
   "source": [
    "# cgs unit\n",
    "from scipy import constants\n",
    "CC = constants.c*1e2\n",
    "HH = constants.h*1e7\n",
    "KK = constants.k*1e7\n",
    "gg = constants.g*1e2\n",
    "GG = constants.G*1e3\n",
    "RR = constants.R*1e7\n",
    "NA = constants.N_A\n",
    "SIGMA = constants.sigma*1e3\n",
    "AMU = 1.661e-24\n",
    "Melectron = constants.m_e * 1e3\n",
    "Mproton= constants.m_p * 1e3"
   ]
  },
  {
   "cell_type": "code",
   "execution_count": 3,
   "metadata": {
    "collapsed": false
   },
   "outputs": [
    {
     "data": {
      "text/plain": [
       "17.258110000000002"
      ]
     },
     "execution_count": 3,
     "metadata": {},
     "output_type": "execute_result"
    }
   ],
   "source": [
    "KK*2e5/eV_to_erg"
   ]
  },
  {
   "cell_type": "markdown",
   "metadata": {},
   "source": [
    "# Recombination rate, X-ray cross section"
   ]
  },
  {
   "cell_type": "code",
   "execution_count": 4,
   "metadata": {
    "collapsed": false
   },
   "outputs": [
    {
     "name": "stdout",
     "output_type": "stream",
     "text": [
      "4.19381656424e-13\n"
     ]
    }
   ],
   "source": [
    "# well-cited paper on recombination rate: mazzotta et al. (1998) \n",
    "#        http://adsabs.harvard.edu/abs/1998A%26AS..133..403M\n",
    "# \n",
    "# Recombination rate in this paper is based on Verner & Ferland (1996).\n",
    "#        http://adsabs.harvard.edu/abs/1996ApJS..103..467V\n",
    "\n",
    "def recombination_rate(T, params):\n",
    "    A, b, T0, T1 = params\n",
    "    return A*( np.sqrt(T/T0) * ( 1 + np.sqrt(T/T0) )**( 1-b ) * ( 1 + np.sqrt(T/T1) )**( 1+b ) )**(-1.)\n",
    "\n",
    "param_H = (7.982e-11, 0.748, 3.148e0, 7.063e5)\n",
    "print recombination_rate(1e4, param_H)\n",
    "\n",
    "# but this is \"case A\" recombination rate\n",
    "#        http://www.tapir.caltech.edu/~chirata/ay102/Photoionized.pdf\n"
   ]
  },
  {
   "cell_type": "code",
   "execution_count": 5,
   "metadata": {
    "collapsed": false
   },
   "outputs": [
    {
     "name": "stdout",
     "output_type": "stream",
     "text": [
      "2.57977608813e-13\n"
     ]
    }
   ],
   "source": [
    "# \"Case B\" Recombination rate from Pequignot, D.; Petitjean, P.; Boisson, C. (1991)\n",
    "#        http://adsabs.harvard.edu/abs/1991A&A...251..680P\n",
    "\n",
    "def recombination_rate_2(T, params):\n",
    "    a, b, c, d = params\n",
    "    t = T/1e4\n",
    "    return 1e-13*a*t**b/(1+c*t**d)\n",
    "\n",
    "param_Hb = (4.309, -0.6166, 0.6703,0.5300)\n",
    "print recombination_rate_2(1e4, param_Hb)\n"
   ]
  },
  {
   "cell_type": "code",
   "execution_count": 6,
   "metadata": {
    "collapsed": false
   },
   "outputs": [
    {
     "name": "stdout",
     "output_type": "stream",
     "text": [
      "6.34629635899e-18\n",
      "3.32280846302e-18\n",
      "3.52104868716e-21\n"
     ]
    }
   ],
   "source": [
    "# cross section of Hydrogen for X-ray\n",
    "#        http://adsabs.harvard.edu/abs/1996ApJ...465..487V\n",
    "\n",
    "Mb_to_cm2 = 1e-18\n",
    "\n",
    "def sigma_H_Xray(Tphoton, params):\n",
    "    E0, sigma0, ya, P, yw, y0, y1 = params\n",
    "    E = KK*Tphoton/eV_to_erg\n",
    "    x = E/E0 - y0\n",
    "    y = np.sqrt( x**2 + y1**2 )\n",
    "    F = ( (x-1)**2 + yw**2 ) * y**( 0.5 * P - 5.5 ) * ( 1. + np.sqrt( y / ya ))**( -1.0 * P )\n",
    "    return sigma0 * F * Mb_to_cm2\n",
    "\n",
    "params = (4.298e-1, 5.475e4, 3.288e1, 2.963e0, 0.0, 0.0, 0.0)\n",
    "T_Rydberg = Rydberg_eV*eV_to_erg / ( KK )\n",
    "print sigma_H_Xray(T_Rydberg, params)\n",
    "print sigma_H_Xray(2e5, params)\n",
    "print sigma_H_Xray(2e6, params)\n"
   ]
  },
  {
   "cell_type": "code",
   "execution_count": null,
   "metadata": {
    "collapsed": false
   },
   "outputs": [],
   "source": []
  },
  {
   "cell_type": "code",
   "execution_count": null,
   "metadata": {
    "collapsed": false
   },
   "outputs": [],
   "source": []
  },
  {
   "cell_type": "markdown",
   "metadata": {
    "collapsed": false
   },
   "source": [
    "# Estimate of Ionized Region"
   ]
  },
  {
   "cell_type": "code",
   "execution_count": 7,
   "metadata": {
    "collapsed": false
   },
   "outputs": [],
   "source": [
    "# mass, orbitMj = 1.0\n",
    "Mp = 10 * Mjupiter\n",
    "orbit = 5.0 # AU\n",
    "\n",
    "# accretion temperature\n",
    "# DSS comment shouldn't it be 2e5, not 1e5?\n",
    "def Tacc_fn(Mplanet):\n",
    "    \"\"\"\n",
    "    Returns accretion temperature in K\n",
    "    From eq. 11 of Spiegel & Madhusudhan 2012\n",
    "    \"\"\"\n",
    "    return 2e5 * (Mplanet / Mjupiter) # K\n",
    "\n",
    "# accretion luminosity\n",
    "# DSS COMMENT: What should Mdot be?\n",
    "def Luminosity_fn(Mplanet, Mdot=1e-8, Mstar=Msun):\n",
    "    \"\"\"\n",
    "    Returns X-ray luminosity in erg/s\n",
    "    From eq. 9 of Spiegel & Madhusudhan 2012\n",
    "    \"\"\"\n",
    "    ll = 1e29 * (Mplanet / (10*Mjupiter))**3 * (Mdot / 1e-7) * (Mstar/Msun)**(-2)\n",
    "    return ll\n",
    "\n",
    "# \"class B\" recombination rate\n",
    "def beta_fn(Mplanet, TT=1e4):\n",
    "    \"\"\"\n",
    "    Returns beta from ...?\n",
    "    \"\"\"\n",
    "    #2.74e-14 * (Mp/Mjupiter)**(-3.0/4.0) # cm^3 / sec\n",
    "    # This seems useful?\n",
    "    # http://www.astro.ncu.edu.tw/~wchen/Courses/ISM/07.Photoionization.pdf\n",
    "    return 2.6e-13 * (TT / 1e4)**(-3./4.)\n",
    "\n",
    "Tacc = Tacc_fn(Mp)\n",
    "Luminosity = Luminosity_fn(Mp)\n",
    "beta = beta_fn(Mp) # what's the right temperature to use?"
   ]
  },
  {
   "cell_type": "code",
   "execution_count": 10,
   "metadata": {
    "collapsed": false
   },
   "outputs": [
    {
     "name": "stdout",
     "output_type": "stream",
     "text": [
      "3.0830287613e-18\n",
      "Mean Free Path: 0.012 AU\n",
      "Mean Free Path: 25.775 Rjup\n",
      "Energy relative to Rydberg: 1.269\n"
     ]
    }
   ],
   "source": [
    "# from http://ned.ipac.caltech.edu/level5/Madau6/Madau1_2.html eq. (4)\n",
    "Tacc = 2e5\n",
    "energy_per_photon = KK*Tacc\n",
    "sigma_L = 6.3e-18 # in cm^2\n",
    "sigma_H = sigma_L * (energy_per_photon / Rydberg_erg)**(-3.)\n",
    "print sigma_H\n",
    "mfp = 1. / (density * sigma_H) # mean free path\n",
    "print 'Mean Free Path: %1.3f AU' % (mfp / AU)\n",
    "print 'Mean Free Path: %1.3f Rjup' % (mfp / Rjupiter)\n",
    "print 'Energy relative to Rydberg: %1.3f' % (energy_per_photon / Rydberg_erg)"
   ]
  },
  {
   "cell_type": "code",
   "execution_count": null,
   "metadata": {
    "collapsed": false
   },
   "outputs": [],
   "source": []
  },
  {
   "cell_type": "code",
   "execution_count": 60,
   "metadata": {
    "collapsed": false
   },
   "outputs": [
    {
     "name": "stdout",
     "output_type": "stream",
     "text": [
      "17.25811\n",
      "3.62148578263e+35\n",
      "3.21691176471e+35\n",
      "1.26897867647\n",
      "200000.0\n"
     ]
    }
   ],
   "source": [
    "Mp = 1*Mjupiter\n",
    "Tacc = Tacc_fn(Mp)\n",
    "Luminosity = Luminosity_fn(Mp)\n",
    "\n",
    "energy_per_photon = Tacc * KK\n",
    "print energy_per_photon/eV_to_erg\n",
    "fudge_factor = 0.7 # completely arbitrary ... assuming we don't get 100% efficiency from collisional ionization\n",
    "extra_factor = fudge_factor * (energy_per_photon / Rydberg_erg)\n",
    "ndot_photons = Luminosity / energy_per_photon * extra_factor\n",
    "print Luminosity / energy_per_photon\n",
    "print ndot_photons\n",
    "print (energy_per_photon / Rydberg_erg )\n",
    "print Tacc"
   ]
  },
  {
   "cell_type": "code",
   "execution_count": 9,
   "metadata": {
    "collapsed": true
   },
   "outputs": [],
   "source": [
    "# DSS COMMENT: I recommend not using \"magic numbers\"\n",
    "# https://en.wikipedia.org/wiki/Magic_number_(programming)#Unnamed_numerical_constants\n",
    "# I assume the 5.0 is AU?  I don't know what the 1e3 or the 1.8e6 are, though.\n",
    "# It would be easier to follow the code if you replace all magic numbers with named constants.\n",
    "# You can use some judgment here, like the \"**(-2)\" exponent doesn't need to be named,\n",
    "# but I would name nearly everything else -- even obvious things like 13.6, which could be\n",
    "# named \"Rydberg\" or something similar.\n",
    "\n",
    "\n",
    "# YF temporary comment\n",
    "# \"1.8e6\" comes from equation (18) of the manuscript \n",
    "density = 1.8e6 * (orbit / 5.0 )**(-2) # [cm^{-3}]"
   ]
  },
  {
   "cell_type": "code",
   "execution_count": 11,
   "metadata": {
    "collapsed": false
   },
   "outputs": [
    {
     "name": "stdout",
     "output_type": "stream",
     "text": [
      "66.9701222041 [Rjupiter]\n"
     ]
    }
   ],
   "source": [
    "# DSS COMMENT: Isn't the calculation up to here in MKS, not cgs?  Do we want AU_to_m instead?\n",
    "# Not sure about this one....\n",
    "\n",
    "Mp = 1*Mjupiter\n",
    "Tacc = Tacc_fn(Mp)\n",
    "Luminosity = Luminosity_fn(Mp)\n",
    "\n",
    "energy_per_photon = Tacc * KK\n",
    "ndot_photons = Luminosity / energy_per_photon \n",
    "\n",
    "density = 1.8e6\n",
    "beta = beta_fn(Mp, TT=1e4)\n",
    "\n",
    "#stromgren = 3.0 / ( 4.0 * np.pi ) * ( source / ( density**2 * beta ) )**(1.0/3.0) / AU_to_cm\n",
    "stromgren =  (3. / (4. * np.pi) * ndot_photons / ( density**2 * beta) )**(1.0/3.0) / Rjupiter\n",
    "print stromgren, \"[Rjupiter]\""
   ]
  },
  {
   "cell_type": "code",
   "execution_count": 94,
   "metadata": {
    "collapsed": false
   },
   "outputs": [
    {
     "name": "stdout",
     "output_type": "stream",
     "text": [
      "310.847771408 [Rjupiter]\n"
     ]
    }
   ],
   "source": [
    "Mp = 10*Mjupiter\n",
    "Tacc = Tacc_fn(Mp)\n",
    "Luminosity = Luminosity_fn(Mp)\n",
    "\n",
    "energy_per_photon = Tacc * KK\n",
    "ndot_photons = Luminosity / energy_per_photon \n",
    "\n",
    "density = 1.8e6\n",
    "beta = beta_fn(Mp, TT=1e4)\n",
    "\n",
    "#stromgren = 3.0 / ( 4.0 * np.pi ) * ( source / ( density**2 * beta ) )**(1.0/3.0) / AU_to_cm\n",
    "stromgren =  (3. / (4. * np.pi) * ndot_photons / ( density**2 * beta) )**(1.0/3.0) / Rjupiter\n",
    "print stromgren, \"[Rjupiter]\""
   ]
  },
  {
   "cell_type": "code",
   "execution_count": 18,
   "metadata": {
    "collapsed": false
   },
   "outputs": [
    {
     "name": "stdout",
     "output_type": "stream",
     "text": [
      "0.000467326170305\n"
     ]
    }
   ],
   "source": [
    "Rjupiter_to_AU = Rjupiter / AU\n",
    "print Rjupiter_to_AU"
   ]
  },
  {
   "cell_type": "code",
   "execution_count": 19,
   "metadata": {
    "collapsed": false
   },
   "outputs": [
    {
     "data": {
      "text/plain": [
       "247.74570834866682"
      ]
     },
     "execution_count": 19,
     "metadata": {},
     "output_type": "execute_result"
    }
   ],
   "source": [
    "stromgren / Rjupiter_to_AU"
   ]
  },
  {
   "cell_type": "code",
   "execution_count": 20,
   "metadata": {
    "collapsed": false
   },
   "outputs": [
    {
     "data": {
      "text/plain": [
       "2.8302791425899941e-25"
      ]
     },
     "execution_count": 20,
     "metadata": {},
     "output_type": "execute_result"
    }
   ],
   "source": [
    "erg_s_cm_Hz_to_Jy = 1e23\n",
    "surface * planck_dIdnu(1e9, 1e6) / ( 4. * np.pi * (100.0*pc_to_cm )**2 ) * erg_s_cm_Hz_to_Jy \n"
   ]
  },
  {
   "cell_type": "code",
   "execution_count": 45,
   "metadata": {
    "collapsed": false
   },
   "outputs": [
    {
     "name": "stdout",
     "output_type": "stream",
     "text": [
      "3.0830287613e-21\n",
      "Mean Free Path: 12.045 AU\n",
      "Mean Free Path: 25775.340 Rjup\n",
      "Energy relative to Rydberg: 12.690\n"
     ]
    }
   ],
   "source": []
  },
  {
   "cell_type": "markdown",
   "metadata": {},
   "source": [
    "# Considering the balance between inoization rate and recombination rate\n",
    "\n",
    "http://ned.ipac.caltech.edu/level5/Madau6/Madau1_2.html\n",
    "\n",
    "\n",
    "- $\\alpha $ : ionization fraction\n",
    "- $E_{\\rm photon}$ : photon energy\n",
    "- $T _e$ : electron temperature\n",
    "- $\\beta [T_e] $ : recombination rate $=2.6 \\times 10^{-13} [{\\rm cm^3/sec}]\\cdot\\left(\\frac{T_e}{10^{4}} \\right)^{-3/4}$\n",
    "- $ \\sigma _H [E_{\\rm photon}] $ : cross section for X-ray, $= 6.3 \\times 10^{-18} [{\\rm cm}^2] \\cdot \\left( \\frac{E_{\\rm photon}}{E_{\\rm Rydberg}} \\right)^{-3} $\n",
    "\n",
    "Assuming an equlibrium state (?),\n",
    "\n",
    "$ \\frac{S}{ 4 \\pi r^2 } n ( 1-\\alpha ) \\sigma _H [E_{\\rm photon}] = n^2 \\alpha^2 \\beta [T_e]  $\n",
    "\n",
    "$\\Rightarrow  \\left( \\frac{4 \\pi r^2 n \\beta [T_e] }{S \\sigma_H[E_{\\rm photon}]} \\right) \\alpha ^2 + \\alpha - 1 = 0 $\n",
    "\n",
    "\n"
   ]
  },
  {
   "cell_type": "code",
   "execution_count": 22,
   "metadata": {
    "collapsed": false
   },
   "outputs": [
    {
     "name": "stdout",
     "output_type": "stream",
     "text": [
      "2.6e-13\n"
     ]
    }
   ],
   "source": [
    "T_e = 1e4\n",
    "beta = beta_fn(Mp, TT=T_e)\n",
    "print beta"
   ]
  },
  {
   "cell_type": "code",
   "execution_count": 62,
   "metadata": {
    "collapsed": false
   },
   "outputs": [],
   "source": [
    "Tacc_1Mj = Tacc_fn(Mjupiter)\n",
    "Tacc_10Mj =  Tacc_fn(10.*Mjupiter)\n",
    "Luminosity_1Mj = Luminosity_fn(Mjupiter)\n",
    "Luminosity_10Mj = Luminosity_fn(10.*Mjupiter)\n",
    "\n",
    "extra_factor = 5.0 \n",
    "energy_per_photon_1Mj = Tacc_1Mj * KK\n",
    "energy_per_photon_10Mj = Tacc_10Mj * KK\n",
    "ndot_photons_1Mj = Luminosity_1Mj / energy_per_photon_1Mj\n",
    "ndot_photons_10Mj = Luminosity_10Mj / energy_per_photon_10Mj * extra_factor"
   ]
  },
  {
   "cell_type": "code",
   "execution_count": 15,
   "metadata": {
    "collapsed": false
   },
   "outputs": [],
   "source": [
    "# from http://ned.ipac.caltech.edu/level5/Madau6/Madau1_2.html eq. (4)\n",
    "\n",
    "def sigma_H_fn(energy_per_photon):\n",
    "    sigma_L = 6.3e-18 # in cm^2\n",
    "    sigma_H = sigma_L * (energy_per_photon / Rydberg_erg)**(-3.)\n",
    "    return sigma_H"
   ]
  },
  {
   "cell_type": "code",
   "execution_count": 16,
   "metadata": {
    "collapsed": false
   },
   "outputs": [],
   "source": [
    "def ionization_fraction(radius, Mp, fudge_factor=0.0):\n",
    "    \n",
    "    Tacc = Tacc_fn(Mp)\n",
    "    Luminosity = Luminosity_fn(Mp)\n",
    "    energy_per_photon = Tacc * KK\n",
    "    print \"energy_per_photon\", energy_per_photon\n",
    "    \n",
    "#   fudge_factor = 0.7 # completely arbitrary ... assuming we don't get 100% efficiency from collisional ionization\n",
    "    extra_factor = ( energy_per_photon - Rydberg_erg ) * fudge_factor / Rydberg_erg\n",
    "    ndot_photons = Luminosity / energy_per_photon * ( 1. + extra_factor ) \n",
    "    \n",
    "    print \"ndot_photons\", ndot_photons\n",
    "    sigma_H = sigma_H_fn(energy_per_photon)\n",
    "    \n",
    "    density = 1.8e6 \n",
    "    a = density*beta*4.*np.pi*radius**2/ndot_photons/sigma_H\n",
    "    b = 1.\n",
    "    c = -1.\n",
    "    numerator = -1.*b + np.sqrt( b**2 - 4.*a*c )\n",
    "    denominator = 2.*a\n",
    "    return numerator/denominator"
   ]
  },
  {
   "cell_type": "code",
   "execution_count": 31,
   "metadata": {
    "collapsed": false
   },
   "outputs": [
    {
     "name": "stdout",
     "output_type": "stream",
     "text": [
      "energy_per_photon 2.7612976e-11\n",
      "ndot_photons 3.62148578263e+35\n",
      "energy_per_photon 2.7612976e-11\n",
      "ndot_photons 4.10853700896e+35\n",
      "energy_per_photon 2.7612976e-10\n",
      "ndot_photons 3.62148578263e+37\n",
      "energy_per_photon 2.7612976e-10\n",
      "ndot_photons 2.47886840678e+38\n"
     ]
    }
   ],
   "source": [
    "density = 1.8e6\n",
    "r_tics = np.linspace(1, 500, 500)\n",
    "y_tics_1Mj = ionization_fraction(r_tics*Rjupiter, Mjupiter )\n",
    "y_tics_1Mj_fudge = ionization_fraction(r_tics*Rjupiter, Mjupiter, fudge_factor=0.5)\n",
    "y_tics_10Mj = ionization_fraction(r_tics*Rjupiter, 10.*Mjupiter )\n",
    "y_tics_10Mj_fudge = ionization_fraction(r_tics*Rjupiter, 10.*Mjupiter , fudge_factor=0.5)"
   ]
  },
  {
   "cell_type": "code",
   "execution_count": 81,
   "metadata": {
    "collapsed": false
   },
   "outputs": [
    {
     "data": {
      "image/png": "[encoded data removed]",
      "text/plain": [
       "<matplotlib.figure.Figure at 0x1157e9490>"
      ]
     },
     "metadata": {},
     "output_type": "display_data"
    }
   ],
   "source": [
    "plt.figure(figsize=(4,3))\n",
    "plot1, = plt.plot(r_tics, y_tics_1Mj, \"k-\", label='$M_p = M_J$', )\n",
    "plot2, = plt.plot(r_tics, y_tics_10Mj, \"r-\",  label='$M_p = 10 M_J$')\n",
    "plt.plot(r_tics, y_tics_1Mj_fudge, \"k--\", label='$M_p = M_J$', )\n",
    "plt.plot(r_tics, y_tics_10Mj_fudge, \"r--\",  label='$M_p = 10 M_J$')\n",
    "\n",
    "plt.annotate('', xy=(67, 0.8), xytext=(67, 0.9), fontsize=10, arrowprops=dict(facecolor='black', shrink=-0.5),)\n",
    "plt.annotate('', xy=(310, 0.15), xytext=(310, 0.25), fontsize=10, arrowprops=dict(facecolor='red', shrink=-0.5))\n",
    "\n",
    "\n",
    "plt.plot([15., 15.], [0.0, 1.0], \"k:\") \n",
    "plt.plot([15.*(10**(1.0/3.0)), 15.*(10**(1.0/3.0))], [0.0, 1.0], \"r:\") \n",
    "\n",
    "plt.title(\"$a=5AU, \\; 10^{-8} M_{\\odot }/yr$\")\n",
    "plt.xlabel(\"distance from planet [$R_J$]\")\n",
    "plt.ylabel(\"ionization fraction\")\n",
    "plt.ylim(0,1)\n",
    "plt.xlim(1,1000)\n",
    "plt.xscale('log')\n",
    "plt.legend(handles=[plot1, plot2], loc=3)\n",
    "plt.savefig(\"ionizationfraction.eps\", bbox_inches=\"tight\", pad_inches=0.0)"
   ]
  },
  {
   "cell_type": "code",
   "execution_count": 45,
   "metadata": {
    "collapsed": true
   },
   "outputs": [],
   "source": [
    "def planck(wl, *args):\n",
    "    \"\"\"\n",
    "    Returns the Planck function evaluated at wavelength wl and temperature temp.\n",
    "    \"\"\"\n",
    "    wl = np.array(wl)\n",
    "    temp, = args\n",
    "    fac = HH * CC / (wl * KK * temp)\n",
    "    return (2.0 * HH * CC**2 / (wl**5)) * (1. / (np.exp(fac) - 1.))\n",
    "\n",
    "def planck_dIdnu(nu, *args):\n",
    "    \"\"\"\n",
    "    Returns the Planck function evaluated at wavelength wl and temperature temp.\n",
    "    \"\"\"\n",
    "    nu = np.array(nu)\n",
    "    temp, = args\n",
    "    fac = HH * nu / (KK * temp)\n",
    "    return (2.0 * HH * nu**3 / (CC**2)) * (1. / (np.exp(fac) - 1.))\n",
    "\n",
    "def planck_photon(wl, *args):\n",
    "    \"\"\"\n",
    "    Returns the thermal intensity of photons at wavelength wl and temperature temp.\n",
    "    \"\"\"\n",
    "    wl = np.array(wl)\n",
    "    energy_intensity = planck(wl, *args)\n",
    "    energy_per_photon = HH * CC / wl\n",
    "    return energy_intensity / energy_per_photon"
   ]
  },
  {
   "cell_type": "code",
   "execution_count": 46,
   "metadata": {
    "collapsed": false
   },
   "outputs": [
    {
     "name": "stdout",
     "output_type": "stream",
     "text": [
      "1350778.498\n",
      "1356840.56849\n"
     ]
    },
    {
     "name": "stderr",
     "output_type": "stream",
     "text": [
      "/opt/local/Library/Frameworks/Python.framework/Versions/2.7/lib/python2.7/site-packages/IPython/kernel/__main__.py:17: RuntimeWarning: overflow encountered in exp\n"
     ]
    }
   ],
   "source": [
    "# check with Solar Constant\n",
    "Rsun_to_AU = 0.0046\n",
    "print quad(planck, 0.01e-4, 5.0e-4, args=(5800.0,))[0]*Rsun_to_AU**2*np.pi\n",
    "\n",
    "\n",
    "print quad(planck_dIdnu, 3e13, 3e+18, args=(5800.0,))[0]*Rsun_to_AU**2*np.pi"
   ]
  },
  {
   "cell_type": "code",
   "execution_count": null,
   "metadata": {
    "collapsed": true
   },
   "outputs": [],
   "source": []
  }
 ],
 "metadata": {
  "kernelspec": {
   "display_name": "Python 2",
   "language": "python",
   "name": "python2"
  },
  "language_info": {
   "codemirror_mode": {
    "name": "ipython",
    "version": 2
   },
   "file_extension": ".py",
   "mimetype": "text/x-python",
   "name": "python",
   "nbconvert_exporter": "python",
   "pygments_lexer": "ipython2",
   "version": "2.7.10"
  }
 },
 "nbformat": 4,
 "nbformat_minor": 0
}
