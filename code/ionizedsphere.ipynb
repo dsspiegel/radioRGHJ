{
 "cells": [
  {
   "cell_type": "code",
   "execution_count": 1,
   "metadata": {
    "collapsed": false
   },
   "outputs": [],
   "source": [
    "import numpy as np\n",
    "from scipy.integrate import quad\n",
    "from scipy import constants\n",
    "\n",
    "Mj = 1.0\n",
    "Mp = 10*Mj\n",
    "orbit = 5.0 # AU"
   ]
  },
  {
   "cell_type": "code",
   "execution_count": 3,
   "metadata": {
    "collapsed": false
   },
   "outputs": [
    {
     "name": "stdout",
     "output_type": "stream",
     "text": [
      "2.99792458\n"
     ]
    }
   ],
   "source": [
    "print constants.c / 1.e8"
   ]
  },
  {
   "cell_type": "markdown",
   "metadata": {},
   "source": [
    "So `constants` has values in MKS."
   ]
  },
  {
   "cell_type": "code",
   "execution_count": 10,
   "metadata": {
    "collapsed": false
   },
   "outputs": [],
   "source": [
    "def planck(wl, *args):\n",
    "    \"\"\"\n",
    "    Returns the Planck function evaluated at wavelength wl and temperature temp.\n",
    "    \"\"\"\n",
    "    wl = np.array(wl)\n",
    "    temp, = args\n",
    "    fac = constants.h * constants.c / (wl * constants.k * temp)\n",
    "    return (2.0 * constants.h * constants.c**2 / (wl**5)) * (1. / (np.exp(fac) - 1.))"
   ]
  },
  {
   "cell_type": "code",
   "execution_count": 13,
   "metadata": {
    "collapsed": false
   },
   "outputs": [],
   "source": [
    "def planck_photon(wl, *args):\n",
    "    \"\"\"\n",
    "    Returns the thermal intensity of photons at wavelength wl and temperature temp.\n",
    "    \"\"\"\n",
    "    wl = np.array(wl)\n",
    "    energy_intensity = planck(wl, *args)\n",
    "    energy_per_photon = constants.h * constants.c / wl\n",
    "    return energy_intensity / energy_per_photon"
   ]
  },
  {
   "cell_type": "code",
   "execution_count": 14,
   "metadata": {
    "collapsed": false
   },
   "outputs": [
    {
     "name": "stdout",
     "output_type": "stream",
     "text": [
      "[  1.76806236e-07   1.43404410e+02]\n",
      "[  8.90063281e+11   1.44382916e+21]\n"
     ]
    }
   ],
   "source": [
    "wls = [1.e-6, 2.e-6]\n",
    "temp = 300.\n",
    "print planck(wls, temp)\n",
    "print planck_photon(wls, temp)"
   ]
  },
  {
   "cell_type": "code",
   "execution_count": 15,
   "metadata": {
    "collapsed": false
   },
   "outputs": [
    {
     "data": {
      "text/plain": [
       "1350.778497996132"
      ]
     },
     "execution_count": 15,
     "metadata": {},
     "output_type": "execute_result"
    }
   ],
   "source": [
    "# check with Solar Constant\n",
    "Rsun_to_AU = 0.0046\n",
    "quad(planck, 0.01e-6, 5.0e-6, args=(5800.0,))[0]*Rsun_to_AU**2*np.pi"
   ]
  },
  {
   "cell_type": "code",
   "execution_count": 16,
   "metadata": {
    "collapsed": true
   },
   "outputs": [],
   "source": [
    "# accretion temperature\n",
    "Tacc=1e5*(Mp/Mj) # K\n",
    "\n",
    "# accretion luminosity\n",
    "Luminosity = 1e25*(Mp/Mj)**3\n",
    "\n",
    "# \"class B\" recombination rate\n",
    "beta = 2.74e-14*(Mp/Mj)**(-3.0/4.0)"
   ]
  },
  {
   "cell_type": "code",
   "execution_count": 17,
   "metadata": {
    "collapsed": false
   },
   "outputs": [
    {
     "name": "stdout",
     "output_type": "stream",
     "text": [
      "5.67217787748e+16\n"
     ]
    },
    {
     "name": "stderr",
     "output_type": "stream",
     "text": [
      "/opt/local/Library/Frameworks/Python.framework/Versions/2.7/lib/python2.7/site-packages/scipy/integrate/quadpack.py:352: IntegrationWarning: The algorithm does not converge.  Roundoff error is detected\n",
      "  in the extrapolation table.  It is assumed that the requested tolerance\n",
      "  cannot be achieved, and that the returned result (if full_output = 1) is \n",
      "  the best which can be obtained.\n",
      "  warnings.warn(msg, IntegrationWarning)\n"
     ]
    }
   ],
   "source": [
    "planck_integrated = quad(planck, 0, 1.0e-4, args=(Tacc))[0]*np.pi\n",
    "print planck_integrated"
   ]
  },
  {
   "cell_type": "code",
   "execution_count": 18,
   "metadata": {
    "collapsed": false
   },
   "outputs": [
    {
     "name": "stdout",
     "output_type": "stream",
     "text": [
      "1.76299125592e+11\n"
     ]
    }
   ],
   "source": [
    "# denoting that surface area by \"surface\", \n",
    "###  surface * planck_integrated = Luminosity\n",
    "###  surface =  Luminosity  / planck_integrated \n",
    "\n",
    "surface = Luminosity  / planck_integrated \n",
    "print surface"
   ]
  },
  {
   "cell_type": "code",
   "execution_count": 19,
   "metadata": {
    "collapsed": false
   },
   "outputs": [
    {
     "data": {
      "text/plain": [
       "176355241533.4935"
      ]
     },
     "execution_count": 19,
     "metadata": {},
     "output_type": "execute_result"
    }
   ],
   "source": [
    "Luminosity / ( constants.sigma*Tacc**4 )"
   ]
  },
  {
   "cell_type": "code",
   "execution_count": 20,
   "metadata": {
    "collapsed": false
   },
   "outputs": [
    {
     "name": "stdout",
     "output_type": "stream",
     "text": [
      "91.2888641208 [nm]\n"
     ]
    }
   ],
   "source": [
    "# Suppose photons with energy > 13.6 eV can ionize hydrogen\n",
    "\n",
    "eV_to_Joule = 1.6e-19\n",
    "wl_ionize = constants.h * constants.c / (13.6 * eV_to_Joule )\n",
    "print wl_ionize*1e9, \"[nm]\""
   ]
  },
  {
   "cell_type": "code",
   "execution_count": 21,
   "metadata": {
    "collapsed": false
   },
   "outputs": [
    {
     "name": "stdout",
     "output_type": "stream",
     "text": [
      "2.66742378549e+44 [s^-1]\n"
     ]
    },
    {
     "name": "stderr",
     "output_type": "stream",
     "text": [
      "/opt/local/Library/Frameworks/Python.framework/Versions/2.7/lib/python2.7/site-packages/IPython/kernel/__main__.py:8: RuntimeWarning: overflow encountered in exp\n"
     ]
    }
   ],
   "source": [
    "# photons per second\n",
    "\n",
    "source = surface * np.pi * quad(planck_photon, 0, wl_ionize, args=(Tacc))[0]\n",
    "print source, \"[s^-1]\""
   ]
  },
  {
   "cell_type": "code",
   "execution_count": 178,
   "metadata": {
    "collapsed": true
   },
   "outputs": [],
   "source": [
    "# DSS COMMENT: I recommend not using \"magic numbers\"\n",
    "# https://en.wikipedia.org/wiki/Magic_number_(programming)#Unnamed_numerical_constants\n",
    "# I assume the 5.0 is AU?  I don't know what the 1e3 or the 1.8e6 are, though.\n",
    "# It would be easier to follow the code if you replace all magic numbers with named constants.\n",
    "# You can use some judgment here, like the \"**(-2)\" exponent doesn't need to be named,\n",
    "# but I would name nearly everything else -- even obvious things like 13.6, which could be\n",
    "# named \"Rydberg\" or something similar.\n",
    "density = 1e3 * 1.8e6 * (orbit / 5.0 )**(-2) # [cm^{-3}]"
   ]
  },
  {
   "cell_type": "code",
   "execution_count": 179,
   "metadata": {
    "collapsed": false
   },
   "outputs": [
    {
     "name": "stdout",
     "output_type": "stream",
     "text": [
      "0.409497694315 [AU]\n"
     ]
    }
   ],
   "source": [
    "# DSS COMMENT: Isn't the calculation up to here in MKS, not cgs?  Do we want AU_to_m instead?\n",
    "# Not sure about this one....\n",
    "AU_to_cm = 1.49597870700e13\n",
    "stromgren = 3.0 / ( 4.0 * np.pi ) * ( source / ( density**2 * beta ) )**(1.0/3.0) / AU_to_cm\n",
    "print stromgren, \"[AU]\""
   ]
  },
  {
   "cell_type": "code",
   "execution_count": null,
   "metadata": {
    "collapsed": true
   },
   "outputs": [],
   "source": []
  }
 ],
 "metadata": {
  "kernelspec": {
   "display_name": "Python 2",
   "language": "python",
   "name": "python2"
  },
  "language_info": {
   "codemirror_mode": {
    "name": "ipython",
    "version": 2
   },
   "file_extension": ".py",
   "mimetype": "text/x-python",
   "name": "python",
   "nbconvert_exporter": "python",
   "pygments_lexer": "ipython2",
   "version": "2.7.9"
  }
 },
 "nbformat": 4,
 "nbformat_minor": 0
}
