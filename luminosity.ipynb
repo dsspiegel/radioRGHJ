{
 "cells": [
  {
   "cell_type": "code",
   "execution_count": 1,
   "metadata": {
    "collapsed": false
   },
   "outputs": [],
   "source": [
    "import pandas as pd\n",
    "import numpy as np\n",
    "import matplotlib.pyplot as plt\n",
    "from scipy import constants\n",
    "from scipy.integrate import quad\n",
    "au_to_m = 1.49e11\n",
    "%matplotlib inline "
   ]
  },
  {
   "cell_type": "code",
   "execution_count": 2,
   "metadata": {
    "collapsed": true
   },
   "outputs": [],
   "source": [
    "pc_to_m = 3.086e16"
   ]
  },
  {
   "cell_type": "code",
   "execution_count": null,
   "metadata": {
    "collapsed": false
   },
   "outputs": [],
   "source": []
  },
  {
   "cell_type": "code",
   "execution_count": null,
   "metadata": {
    "collapsed": true
   },
   "outputs": [],
   "source": []
  },
  {
   "cell_type": "code",
   "execution_count": 3,
   "metadata": {
    "collapsed": true
   },
   "outputs": [],
   "source": [
    "def L2F(L, radius):\n",
    "    return L / ( 4. * np.pi * radius**2 )"
   ]
  },
  {
   "cell_type": "code",
   "execution_count": 4,
   "metadata": {
    "collapsed": true
   },
   "outputs": [],
   "source": [
    "# Flux function\n",
    "\n",
    "def dnr_dF(Flux, *args):\n",
    "\n",
    "    radius, alpha, F_min, F_max = args\n",
    "\n",
    "#    F_min = L2F( L_min, radius )\n",
    "#    F_max = L2F( L_max, radius )\n",
    "\n",
    "    if (Flux < F_min):\n",
    "        rslt = 0.\n",
    "    elif(Flux <= F_max):\n",
    "        rslt = Flux**(-1.*alpha) * radius**(4. - 2.*alpha)\n",
    "    else: \n",
    "        rslt = 0.\n",
    "\n",
    "    return rslt"
   ]
  },
  {
   "cell_type": "code",
   "execution_count": 8,
   "metadata": {
    "collapsed": true
   },
   "outputs": [],
   "source": [
    "# normalize a function\n",
    "\n",
    "def make_normalizedfunc(func, llimit, ulimit, *args):\n",
    "    \n",
    "#    X_GRID = 200\n",
    "#    X_grid = np.logspace(np.log10(llimit), np.log10(ulimit), X_GRID)\n",
    "#    logX_grid = np.log(X_grid)\n",
    "#    Y_grid = np.zeros(X_GRID)\n",
    "#    for ii in xrange(X_GRID):\n",
    "#        Y_grid[ii] = func(X_grid[ii], *args)\n",
    "\n",
    "    # integral with log(X)\n",
    "    norm = quad( func, llimit, ulimit, args=args )[0]\n",
    "#    print \"norm\", norm\n",
    "\n",
    "    def func_normalized(x, *args):\n",
    "        return func(x, *args) / norm\n",
    "    \n",
    "    return func_normalized\n",
    "    "
   ]
  },
  {
   "cell_type": "code",
   "execution_count": 5,
   "metadata": {
    "collapsed": true
   },
   "outputs": [],
   "source": [
    "# given probabilty function, compute the expected value for the maximum value\n",
    "\n",
    "def expected_max( func_prob, llimit, ulimit, totalnum, *args ):\n",
    "    \n",
    "    X_GRID = 200\n",
    "    X_grid = np.logspace( np.log10(llimit), np.log10(ulimit), X_GRID)\n",
    "    logX_grid = np.log(X_grid)\n",
    "    \n",
    "    # probability for a target to have a value between X and X + dX\n",
    "    P_grid = np.zeros(X_GRID)\n",
    "    for ii in xrange(X_GRID):\n",
    "        P_grid[ii] = func_prob( X_grid[ii], *args )\n",
    "        \n",
    "    # probability for a target to have a value less than X\n",
    "    P_less_grid = np.zeros(X_GRID)\n",
    "    for ii in xrange(1,X_GRID):\n",
    "        P_less_grid[ii] = quad( func_prob, llimit, X_grid[ii], args=args )[0]\n",
    "    \n",
    "    # probability that maximum flux is X \n",
    "    totalprob_grid = totalnum * P_grid * P_less_grid**( totalnum - 1 )\n",
    "    \n",
    "    # expected value\n",
    "    expected_value = np.trapz( X_grid * totalprob_grid * X_grid, x=logX_grid )\n",
    "    \n",
    "    return expected_value\n",
    "                                                                "
   ]
  },
  {
   "cell_type": "code",
   "execution_count": 9,
   "metadata": {
    "collapsed": false
   },
   "outputs": [
    {
     "data": {
      "text/plain": [
       "<function matplotlib.pyplot.show>"
      ]
     },
     "execution_count": 9,
     "metadata": {},
     "output_type": "execute_result"
    },
    {
     "data": {
      "image/png": "[encoded data removed]",
      "text/plain": [
       "<matplotlib.figure.Figure at 0x112ddd4d0>"
      ]
     },
     "metadata": {},
     "output_type": "display_data"
    }
   ],
   "source": [
    "alpha = 3.0\n",
    "L_min = 1.0\n",
    "L_max = 1000.0\n",
    "n_per_pc3 = 1e-2 # /pc^3\n",
    "\n",
    "N_GRID_R = 10\n",
    "#R_grid = np.linspace(10, 300, N_GRID_R)\n",
    "R_grid = np.logspace(1, 3, N_GRID_R)\n",
    "\n",
    "\n",
    "Fmin = np.zeros(N_GRID_R)\n",
    "Fmax = np.zeros(N_GRID_R)\n",
    "expected_value = np.zeros(N_GRID_R)\n",
    "\n",
    "##################################\n",
    "for nn in xrange(N_GRID_R):\n",
    "\n",
    "    radius = R_grid[nn]\n",
    "\n",
    "    n_r = n_per_pc3 * ( 4. * np.pi * radius **2 )\n",
    "    totalnum = int(n_r)\n",
    "    \n",
    "    if (totalnum >= 1):\n",
    "        F_min = L2F(L_min, radius)\n",
    "        F_max = L2F(L_max, radius)\n",
    "        args = ( radius, alpha, F_min, F_max )\n",
    "    \n",
    "        func_prob = make_normalizedfunc(dnr_dF, F_min, F_max, *args)\n",
    "        expected_value[nn] = expected_max( func_prob, F_min, F_max, totalnum, *args )\n",
    "        Fmin[nn] =  L2F(L_min, radius)\n",
    "        Fmax[nn] =  L2F(L_max, radius)\n",
    "##################################\n",
    "\n",
    "plt.xlabel(\"radius\")\n",
    "plt.ylabel(\"exepcted value for maximum flux\")\n",
    "plt1 = plt.plot(R_grid, expected_value, label='')\n",
    "plt2 = plt.plot(R_grid, Fmax, label=r'$F_{\\rm max}$')\n",
    "plt3 = plt.plot(R_grid, Fmin, label=r'$F_{\\rm min}$')\n",
    "plt.legend()\n",
    "plt.title(r\"$\\alpha = $\" + str(alpha))\n",
    "plt.xscale(\"log\")\n",
    "plt.yscale(\"log\")\n",
    "plt.ylim(1e-5, 1)\n",
    "#plt.ylim(1e-2, 100)\n",
    "plt.show"
   ]
  },
  {
   "cell_type": "code",
   "execution_count": 10,
   "metadata": {
    "collapsed": false
   },
   "outputs": [
    {
     "data": {
      "text/plain": [
       "<function matplotlib.pyplot.show>"
      ]
     },
     "execution_count": 10,
     "metadata": {},
     "output_type": "execute_result"
    },
    {
     "data": {
      "image/png": "[encoded data removed]",
      "text/plain": [
       "<matplotlib.figure.Figure at 0x1132c45d0>"
      ]
     },
     "metadata": {},
     "output_type": "display_data"
    }
   ],
   "source": [
    "alpha = 2.0\n",
    "L_min = 1.0\n",
    "L_max = 1000.0\n",
    "n_per_pc3 = 1e-2 # /pc^3\n",
    "\n",
    "N_GRID_R = 10\n",
    "#R_grid = np.linspace(10, 300, N_GRID_R)\n",
    "R_grid = np.logspace(1, 3, N_GRID_R)\n",
    "\n",
    "\n",
    "Fmin = np.zeros(N_GRID_R)\n",
    "Fmax = np.zeros(N_GRID_R)\n",
    "expected_value = np.zeros(N_GRID_R)\n",
    "\n",
    "##################################\n",
    "for nn in xrange(N_GRID_R):\n",
    "\n",
    "    radius = R_grid[nn]\n",
    "\n",
    "    n_r = n_per_pc3 * ( 4. * np.pi * radius **2 )\n",
    "    totalnum = int(n_r)\n",
    "    \n",
    "    if (totalnum >= 1):\n",
    "        F_min = L2F(L_min, radius)\n",
    "        F_max = L2F(L_max, radius)\n",
    "        args = ( radius, alpha, F_min, F_max )\n",
    "    \n",
    "        func_prob = make_normalizedfunc(dnr_dF, F_min, F_max, *args)\n",
    "        expected_value[nn] = expected_max( func_prob, F_min, F_max, totalnum, *args )\n",
    "        Fmin[nn] =  L2F(L_min, radius)\n",
    "        Fmax[nn] =  L2F(L_max, radius)\n",
    "##################################\n",
    "\n",
    "plt.xlabel(\"radius\")\n",
    "plt.ylabel(\"exepcted value for maximum flux\")\n",
    "plt1 = plt.plot(R_grid, expected_value, label='')\n",
    "plt2 = plt.plot(R_grid, Fmax, label=r'$F_{\\rm max}$')\n",
    "plt3 = plt.plot(R_grid, Fmin, label=r'$F_{\\rm min}$')\n",
    "plt.legend()\n",
    "plt.title(r\"$\\alpha = $\" + str(alpha))\n",
    "plt.xscale(\"log\")\n",
    "plt.yscale(\"log\")\n",
    "plt.ylim(1e-5, 1)\n",
    "#plt.ylim(1e-2, 100)\n",
    "plt.show"
   ]
  },
  {
   "cell_type": "code",
   "execution_count": 11,
   "metadata": {
    "collapsed": false
   },
   "outputs": [
    {
     "data": {
      "text/plain": [
       "<function matplotlib.pyplot.show>"
      ]
     },
     "execution_count": 11,
     "metadata": {},
     "output_type": "execute_result"
    },
    {
     "data": {
      "image/png": "[encoded data removed]",
      "text/plain": [
       "<matplotlib.figure.Figure at 0x11335de90>"
      ]
     },
     "metadata": {},
     "output_type": "display_data"
    }
   ],
   "source": [
    "alpha = 1.0\n",
    "L_min = 1.0\n",
    "L_max = 1000.0\n",
    "n_per_pc3 = 1e-2 # /pc^3\n",
    "\n",
    "N_GRID_R = 10\n",
    "#R_grid = np.linspace(10, 300, N_GRID_R)\n",
    "R_grid = np.logspace(1, 3, N_GRID_R)\n",
    "\n",
    "\n",
    "Fmin = np.zeros(N_GRID_R)\n",
    "Fmax = np.zeros(N_GRID_R)\n",
    "expected_value = np.zeros(N_GRID_R)\n",
    "\n",
    "##################################\n",
    "for nn in xrange(N_GRID_R):\n",
    "\n",
    "    radius = R_grid[nn]\n",
    "\n",
    "    n_r = n_per_pc3 * ( 4. * np.pi * radius **2 )\n",
    "    totalnum = int(n_r)\n",
    "    \n",
    "    if (totalnum >= 1):\n",
    "        F_min = L2F(L_min, radius)\n",
    "        F_max = L2F(L_max, radius)\n",
    "        args = ( radius, alpha, F_min, F_max )\n",
    "    \n",
    "        func_prob = make_normalizedfunc(dnr_dF, F_min, F_max, *args)\n",
    "        expected_value[nn] = expected_max( func_prob, F_min, F_max, totalnum, *args )\n",
    "        Fmin[nn] =  L2F(L_min, radius)\n",
    "        Fmax[nn] =  L2F(L_max, radius)\n",
    "##################################\n",
    "\n",
    "plt.xlabel(\"radius\")\n",
    "plt.ylabel(\"exepcted value for maximum flux\")\n",
    "plt1 = plt.plot(R_grid, expected_value, label='')\n",
    "plt2 = plt.plot(R_grid, Fmax, label=r'$F_{\\rm max}$')\n",
    "plt3 = plt.plot(R_grid, Fmin, label=r'$F_{\\rm min}$')\n",
    "plt.legend()\n",
    "plt.title(r\"$\\alpha = $\" + str(alpha))\n",
    "plt.xscale(\"log\")\n",
    "plt.yscale(\"log\")\n",
    "plt.ylim(1e-5, 1)\n",
    "#plt.ylim(1e-2, 100)\n",
    "plt.show"
   ]
  },
  {
   "cell_type": "code",
   "execution_count": 195,
   "metadata": {
    "collapsed": false
   },
   "outputs": [
    {
     "name": "stdout",
     "output_type": "stream",
     "text": [
      "n_r 0.125663706144\n",
      "n_r 0.349666727046\n",
      "n_r 0.972968438981\n",
      "n_r 2.70734247794\n",
      "n_r 7.53334126698\n",
      "n_r 20.9619695725\n",
      "n_r 58.3279255226\n",
      "n_r 162.300917574\n",
      "n_r 451.611944183\n",
      "n_r 1256.63706144\n"
     ]
    },
    {
     "data": {
      "text/plain": [
       "<function matplotlib.pyplot.show>"
      ]
     },
     "execution_count": 195,
     "metadata": {},
     "output_type": "execute_result"
    },
    {
     "data": {
      "image/png": "[encoded data removed]",
      "text/plain": [
       "<matplotlib.figure.Figure at 0x111d69290>"
      ]
     },
     "metadata": {},
     "output_type": "display_data"
    }
   ],
   "source": [
    "alpha = 1.0\n",
    "L_min = 1.0\n",
    "L_max = 100000.0\n",
    "n_per_pc3 = 1e-4 # /pc^3\n",
    "\n",
    "N_GRID_R = 10\n",
    "#R_grid = np.linspace(10, 300, N_GRID_R)\n",
    "R_grid = np.logspace(1, 3, N_GRID_R)\n",
    "\n",
    "\n",
    "Fmin = np.zeros(N_GRID_R)\n",
    "Fmax = np.zeros(N_GRID_R)\n",
    "expected_value = np.zeros(N_GRID_R)\n",
    "\n",
    "##################################\n",
    "for nn in xrange(N_GRID_R):\n",
    "\n",
    "    radius = R_grid[nn]\n",
    "\n",
    "    n_r = n_per_pc3 * ( 4. * np.pi * radius **2 )\n",
    "    print \"n_r\", n_r\n",
    "    F_min = L2F(L_min, radius)\n",
    "    F_max = L2F(L_max, radius)\n",
    "    args = ( radius, alpha, F_min, F_max )\n",
    "    \n",
    "    func_prob = make_normalizedfunc(dnr_dF, F_min, F_max, *args)\n",
    "    expected_value[nn] = expected_max( func_prob, F_min, F_max, n_r, *args )\n",
    "    Fmin[nn] =  L2F(L_min, radius)\n",
    "    Fmax[nn] =  L2F(L_max, radius)\n",
    "##################################\n",
    "\n",
    "plt.xlabel(\"radius\")\n",
    "plt.ylabel(\"exepcted value for maximum flux\")\n",
    "plt1 = plt.plot(R_grid, expected_value, label='')\n",
    "plt2 = plt.plot(R_grid, Fmax, label=r'$F_{\\rm max}$')\n",
    "plt3 = plt.plot(R_grid, Fmin, label=r'$F_{\\rm min}$')\n",
    "plt.legend()\n",
    "plt.title(r\"$\\alpha = $\" + str(alpha))\n",
    "plt.xscale(\"log\")\n",
    "plt.yscale(\"log\")\n",
    "#plt.ylim(1e-2, 100)\n",
    "plt.show"
   ]
  },
  {
   "cell_type": "code",
   "execution_count": 22,
   "metadata": {
    "collapsed": false
   },
   "outputs": [
    {
     "data": {
      "text/plain": [
       "<function matplotlib.pyplot.show>"
      ]
     },
     "execution_count": 22,
     "metadata": {},
     "output_type": "execute_result"
    },
    {
     "data": {
      "image/png": "[encoded data removed]",
      "text/plain": [
       "<matplotlib.figure.Figure at 0x1139d3990>"
      ]
     },
     "metadata": {},
     "output_type": "display_data"
    }
   ],
   "source": [
    "alpha = 1.5\n",
    "L_min = 1.0\n",
    "L_max = 1000000.0\n",
    "n_per_pc3 = 1e-3 # /pc^3\n",
    "\n",
    "N_GRID_R = 10\n",
    "#R_grid = np.linspace(10, 300, N_GRID_R)\n",
    "R_grid = np.logspace(1, 3, N_GRID_R)\n",
    "\n",
    "\n",
    "Fmin = np.zeros(N_GRID_R)\n",
    "Fmax = np.zeros(N_GRID_R)\n",
    "expected_value = np.zeros(N_GRID_R)\n",
    "\n",
    "##################################\n",
    "for nn in xrange(N_GRID_R):\n",
    "\n",
    "    radius = R_grid[nn]\n",
    "\n",
    "    n_r = n_per_pc3 * ( 4. * np.pi * radius **2 )\n",
    "#    print \"n_r\", n_r\n",
    "    F_min = L2F(L_min, radius)\n",
    "    F_max = L2F(L_max, radius)\n",
    "    args = ( radius, alpha, F_min, F_max )\n",
    "    \n",
    "    func_prob = make_normalizedfunc(dnr_dF, F_min, F_max, *args)\n",
    "    expected_value[nn] = expected_max( func_prob, F_min, F_max, n_r, *args )\n",
    "    Fmin[nn] =  L2F(L_min, radius)\n",
    "    Fmax[nn] =  L2F(L_max, radius)\n",
    "##################################\n",
    "\n",
    "plt.xlabel(\"radius\")\n",
    "plt.ylabel(\"exepcted value for maximum flux\")\n",
    "plt1 = plt.plot(R_grid, expected_value, label='')\n",
    "plt2 = plt.plot(R_grid, Fmax, label=r'$F_{\\rm max}$')\n",
    "plt3 = plt.plot(R_grid, Fmin, label=r'$F_{\\rm min}$')\n",
    "plt.legend()\n",
    "plt.title(r\"$\\alpha = $\" + str(alpha))\n",
    "plt.xscale(\"log\")\n",
    "plt.yscale(\"log\")\n",
    "plt.ylim(Fmin[-1], Fmax[0])\n",
    "plt.show"
   ]
  },
  {
   "cell_type": "code",
   "execution_count": 25,
   "metadata": {
    "collapsed": false
   },
   "outputs": [
    {
     "data": {
      "text/plain": [
       "<function matplotlib.pyplot.show>"
      ]
     },
     "execution_count": 25,
     "metadata": {},
     "output_type": "execute_result"
    },
    {
     "data": {
      "image/png": "[encoded data removed]",
      "text/plain": [
       "<matplotlib.figure.Figure at 0x11349fe10>"
      ]
     },
     "metadata": {},
     "output_type": "display_data"
    }
   ],
   "source": [
    "alpha = 2.0\n",
    "L_min = 1.0\n",
    "L_max = 1000000.0\n",
    "n_per_pc3 = 1e-4 # /pc^3\n",
    "\n",
    "N_GRID_R = 10\n",
    "#R_grid = np.linspace(10, 300, N_GRID_R)\n",
    "R_grid = np.logspace(1, 3, N_GRID_R)\n",
    "\n",
    "\n",
    "Fmin = np.zeros(N_GRID_R)\n",
    "Fmax = np.zeros(N_GRID_R)\n",
    "expected_value = np.zeros(N_GRID_R)\n",
    "\n",
    "##################################\n",
    "for nn in xrange(N_GRID_R):\n",
    "\n",
    "    radius = R_grid[nn]\n",
    "\n",
    "    n_r = n_per_pc3 * ( 4. * np.pi * radius **2 )\n",
    "#    print \"n_r\", n_r\n",
    "    F_min = L2F(L_min, radius)\n",
    "    F_max = L2F(L_max, radius)\n",
    "    args = ( radius, alpha, F_min, F_max )\n",
    "    \n",
    "    func_prob = make_normalizedfunc(dnr_dF, F_min, F_max, *args)\n",
    "    expected_value[nn] = expected_max( func_prob, F_min, F_max, n_r, *args )\n",
    "    Fmin[nn] =  L2F(L_min, radius)\n",
    "    Fmax[nn] =  L2F(L_max, radius)\n",
    "##################################\n",
    "\n",
    "plt.xlabel(\"radius\")\n",
    "plt.ylabel(\"exepcted value for maximum flux\")\n",
    "plt1 = plt.plot(R_grid, expected_value, label='')\n",
    "plt2 = plt.plot(R_grid, Fmax, label=r'$F_{\\rm max}$')\n",
    "plt3 = plt.plot(R_grid, Fmin, label=r'$F_{\\rm min}$')\n",
    "plt.legend()\n",
    "plt.title(r\"$\\alpha = $\" + str(alpha))\n",
    "plt.xscale(\"log\")\n",
    "plt.yscale(\"log\")\n",
    "plt.ylim(Fmin[-1], Fmax[0])\n",
    "plt.show"
   ]
  },
  {
   "cell_type": "code",
   "execution_count": null,
   "metadata": {
    "collapsed": true
   },
   "outputs": [],
   "source": []
  }
 ],
 "metadata": {
  "kernelspec": {
   "display_name": "Python 2",
   "language": "python",
   "name": "python2"
  },
  "language_info": {
   "codemirror_mode": {
    "name": "ipython",
    "version": 2
   },
   "file_extension": ".py",
   "mimetype": "text/x-python",
   "name": "python",
   "nbconvert_exporter": "python",
   "pygments_lexer": "ipython2",
   "version": "2.7.10"
  }
 },
 "nbformat": 4,
 "nbformat_minor": 0
}
