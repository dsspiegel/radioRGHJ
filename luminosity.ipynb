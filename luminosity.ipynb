{
 "cells": [
  {
   "cell_type": "code",
   "execution_count": 1,
   "metadata": {
    "collapsed": false
   },
   "outputs": [],
   "source": [
    "import pandas as pd\n",
    "import numpy as np\n",
    "import matplotlib.pyplot as plt\n",
    "from scipy import constants\n",
    "from scipy.integrate import quad\n",
    "au_to_m = 1.49e11\n",
    "%matplotlib inline "
   ]
  },
  {
   "cell_type": "code",
   "execution_count": 2,
   "metadata": {
    "collapsed": true
   },
   "outputs": [],
   "source": [
    "pc_to_m = 3.086e16"
   ]
  },
  {
   "cell_type": "code",
   "execution_count": null,
   "metadata": {
    "collapsed": false
   },
   "outputs": [],
   "source": []
  },
  {
   "cell_type": "code",
   "execution_count": null,
   "metadata": {
    "collapsed": true
   },
   "outputs": [],
   "source": []
  },
  {
   "cell_type": "code",
   "execution_count": 3,
   "metadata": {
    "collapsed": true
   },
   "outputs": [],
   "source": [
    "def L2F(L, radius):\n",
    "    return L / ( 4. * np.pi * radius**2 )"
   ]
  },
  {
   "cell_type": "code",
   "execution_count": 71,
   "metadata": {
    "collapsed": true
   },
   "outputs": [],
   "source": [
    "# Flux function\n",
    "\n",
    "def dnr_dF(Flux, *args):\n",
    "\n",
    "    radius, alpha, F_min, F_max = args\n",
    "\n",
    "#    F_min = L2F( L_min, radius )\n",
    "#    F_max = L2F( L_max, radius )\n",
    "\n",
    "    if (Flux < F_min):\n",
    "        rslt = 0.\n",
    "    elif(Flux <= F_max):\n",
    "        rslt = Flux**(-1.*alpha) * radius**(4. - 2.*alpha)\n",
    "    else: \n",
    "        rslt = 0.\n",
    "\n",
    "    return rslt"
   ]
  },
  {
   "cell_type": "code",
   "execution_count": 74,
   "metadata": {
    "collapsed": true
   },
   "outputs": [],
   "source": [
    "# normalize a function\n",
    "\n",
    "def make_normalizedfunc(func, llimit, ulimit, *args):\n",
    "\n",
    "    norm = quad( func, llimit, ulimit, args=args )[0]\n",
    "\n",
    "    def func_normalized(x, *args):\n",
    "#       print \"radius\", radius, \"norm\", norm\n",
    "        return func(x, *args) / norm\n",
    "    \n",
    "    return func_normalized\n",
    "    "
   ]
  },
  {
   "cell_type": "code",
   "execution_count": 135,
   "metadata": {
    "collapsed": true
   },
   "outputs": [],
   "source": [
    "# given probabilty function, compute the expected value for the maximum value\n",
    "\n",
    "def expected_max( func_prob, llimit, ulimit, totalnum, *args ):\n",
    "    \n",
    "    X_GRID = 2000\n",
    "    X_grid = np.logspace( np.log10(llimit), np.log10(ulimit), X_GRID)\n",
    "    logX_grid = np.log(X_grid)\n",
    "    \n",
    "    # probability for a target to have a value between X and X + dX\n",
    "    P_grid = np.zeros(X_GRID)\n",
    "    for ii in xrange(X_GRID):\n",
    "        P_grid[ii] = func_prob( X_grid[ii], *args )\n",
    "        \n",
    "    # probability for a target to have a value less than X\n",
    "    P_less_grid = np.zeros(X_GRID)\n",
    "    for ii in xrange(1,X_GRID):\n",
    "        P_less_grid[ii] = quad( func_prob, llimit, X_grid[ii], args=args )[0]\n",
    "    \n",
    "    # probability that maximum flux is X \n",
    "    totalprob_grid = totalnum * P_grid * P_less_grid**( totalnum - 1 )\n",
    "    \n",
    "    # expected value\n",
    "    expected_value = np.trapz( X_grid * totalprob_grid * X_grid, x=logX_grid )\n",
    "    \n",
    "    return expected_value\n",
    "                                                                "
   ]
  },
  {
   "cell_type": "markdown",
   "metadata": {},
   "source": [
    "# Flux function at given radius"
   ]
  },
  {
   "cell_type": "code",
   "execution_count": 81,
   "metadata": {
    "collapsed": false
   },
   "outputs": [
    {
     "data": {
      "image/png": "[encoded data removed]",
      "text/plain": [
       "<matplotlib.figure.Figure at 0x112ee71d0>"
      ]
     },
     "metadata": {},
     "output_type": "display_data"
    }
   ],
   "source": [
    "n_per_pc3 = 1e-3 # /pc^3\n",
    "alpha = 1.0\n",
    "L_min = 1.0\n",
    "L_max = 1000.0\n",
    "\n",
    "N_GRID_F = 401\n",
    "F_grid = np.logspace(-10,5,N_GRID_F)\n",
    "logF_grid = np.log(F_grid)\n",
    "\n",
    "R_grid = np.array([10, 30, 100])\n",
    "Prob_grid = np.zeros([3,N_GRID_F])\n",
    "\n",
    "for nn in xrange(len(R_grid)):\n",
    "#for nn in xrange(3,4):\n",
    "\n",
    "    radius = R_grid[nn]\n",
    "    F_min = L2F(L_min, radius)\n",
    "    F_max = L2F(L_max, radius)\n",
    "    args = (radius, alpha, F_min, F_max)\n",
    "    \n",
    "    func_prob = make_normalizedfunc(dnr_dF, F_min, F_max, *args)\n",
    "    N_R = int( 4.0 * np.pi * R_grid[nn]**2 * n_per_pc3 )\n",
    "\n",
    "    for ii in xrange(N_GRID_F):\n",
    "        Prob_grid[nn][ii] = N_R * func_prob(F_grid[ii], *args)\n",
    "\n",
    "### PLOT ###\n",
    "plt.xlabel(r\"Flux\")\n",
    "#plt.ylabel(\"flux distribution of targets within unit width at radius $r$\")\n",
    "plt.ylabel(\"$d^2N/dFdr$\")\n",
    "plt1 = plt.loglog(F_grid, Prob_grid[0], label=r'$r=10{\\rm pc}$')\n",
    "plt2 = plt.loglog(F_grid, Prob_grid[1], label=r'$r=30{\\rm pc}$')\n",
    "plt3 = plt.loglog(F_grid, Prob_grid[2], label=r'$r=100{\\rm pc}$')\n",
    "plt.legend()\n",
    "plt.title(r\"$\\alpha = $\" + str(alpha))\n",
    "plt.xlim(1e-6, 10)\n",
    "#plt.ylim(1e-3, 10)\n",
    "plt.savefig(\"Prob_alpha\"+ str(alpha)+\".pdf\")"
   ]
  },
  {
   "cell_type": "code",
   "execution_count": 84,
   "metadata": {
    "collapsed": false,
    "scrolled": true
   },
   "outputs": [
    {
     "data": {
      "image/png": "[encoded data removed]",
      "text/plain": [
       "<matplotlib.figure.Figure at 0x113317210>"
      ]
     },
     "metadata": {},
     "output_type": "display_data"
    }
   ],
   "source": [
    "n_per_pc3 = 1e-3 # /pc^3\n",
    "alpha = 2.0\n",
    "L_min = 1.0\n",
    "L_max = 1000.0\n",
    "\n",
    "N_GRID_F = 401\n",
    "F_grid = np.logspace(-10,5,N_GRID_F)\n",
    "logF_grid = np.log(F_grid)\n",
    "\n",
    "R_grid = np.array([10, 30, 100])\n",
    "Prob_grid = np.zeros([3,N_GRID_F])\n",
    "\n",
    "for nn in xrange(len(R_grid)):\n",
    "#for nn in xrange(3,4):\n",
    "\n",
    "    radius = R_grid[nn]\n",
    "    F_min = L2F(L_min, radius)\n",
    "    F_max = L2F(L_max, radius)\n",
    "    args = (radius, alpha, F_min, F_max)\n",
    "    \n",
    "    func_prob = make_normalizedfunc(dnr_dF, F_min, F_max, *args)\n",
    "    N_R = int( 4.0 * np.pi * R_grid[nn]**2 * n_per_pc3 )\n",
    "\n",
    "    for ii in xrange(N_GRID_F):\n",
    "        Prob_grid[nn][ii] = N_R * func_prob(F_grid[ii], *args)\n",
    "\n",
    "### PLOT ###\n",
    "plt.xlabel(r\"Flux\")\n",
    "#plt.ylabel(\"flux distribution of targets within unit width at radius $r$\")\n",
    "plt.ylabel(\"$d^2N/dFdr$\")\n",
    "plt1 = plt.loglog(F_grid, Prob_grid[0], label=r'$r=10{\\rm pc}$')\n",
    "plt2 = plt.loglog(F_grid, Prob_grid[1], label=r'$r=30{\\rm pc}$')\n",
    "plt3 = plt.loglog(F_grid, Prob_grid[2], label=r'$r=100{\\rm pc}$')\n",
    "plt.legend()\n",
    "plt.title(r\"$\\alpha = $\" + str(alpha))\n",
    "plt.xlim(1e-6, 10)\n",
    "#plt.ylim(1e-3, 10)\n",
    "plt.savefig(\"Prob_alpha\"+ str(alpha)+\".pdf\")"
   ]
  },
  {
   "cell_type": "code",
   "execution_count": 85,
   "metadata": {
    "collapsed": false
   },
   "outputs": [
    {
     "data": {
      "image/png": "[encoded data removed]",
      "text/plain": [
       "<matplotlib.figure.Figure at 0x112c32250>"
      ]
     },
     "metadata": {},
     "output_type": "display_data"
    }
   ],
   "source": [
    "n_per_pc3 = 1e-3 # /pc^3\n",
    "alpha = 3.0\n",
    "L_min = 1.0\n",
    "L_max = 1000.0\n",
    "\n",
    "N_GRID_F = 401\n",
    "F_grid = np.logspace(-10,5,N_GRID_F)\n",
    "logF_grid = np.log(F_grid)\n",
    "\n",
    "R_grid = np.array([10, 30, 100])\n",
    "Prob_grid = np.zeros([3,N_GRID_F])\n",
    "\n",
    "for nn in xrange(len(R_grid)):\n",
    "#for nn in xrange(3,4):\n",
    "\n",
    "    radius = R_grid[nn]\n",
    "    F_min = L2F(L_min, radius)\n",
    "    F_max = L2F(L_max, radius)\n",
    "    args = (radius, alpha, F_min, F_max)\n",
    "    \n",
    "    func_prob = make_normalizedfunc(dnr_dF, F_min, F_max, *args)\n",
    "    N_R = int( 4.0 * np.pi * R_grid[nn]**2 * n_per_pc3 )\n",
    "\n",
    "    for ii in xrange(N_GRID_F):\n",
    "        Prob_grid[nn][ii] = N_R * func_prob(F_grid[ii], *args)\n",
    "\n",
    "### PLOT ###\n",
    "plt.xlabel(r\"Flux\")\n",
    "#plt.ylabel(\"flux distribution of targets within unit width at radius $r$\")\n",
    "plt.ylabel(\"$d^2N/dFdr$\")\n",
    "plt1 = plt.loglog(F_grid, Prob_grid[0], label=r'$r=10{\\rm pc}$')\n",
    "plt2 = plt.loglog(F_grid, Prob_grid[1], label=r'$r=30{\\rm pc}$')\n",
    "plt3 = plt.loglog(F_grid, Prob_grid[2], label=r'$r=100{\\rm pc}$')\n",
    "plt.legend()\n",
    "plt.title(r\"$\\alpha = $\" + str(alpha))\n",
    "plt.xlim(1e-6, 10)\n",
    "#plt.ylim(1e-3, 10)\n",
    "plt.savefig(\"Prob_alpha\"+ str(alpha)+\".pdf\")"
   ]
  },
  {
   "cell_type": "markdown",
   "metadata": {},
   "source": [
    "# Distribution of Observed Flux within a sphere"
   ]
  },
  {
   "cell_type": "code",
   "execution_count": null,
   "metadata": {
    "collapsed": true
   },
   "outputs": [],
   "source": []
  },
  {
   "cell_type": "markdown",
   "metadata": {},
   "source": [
    "# Expected Values"
   ]
  },
  {
   "cell_type": "code",
   "execution_count": 157,
   "metadata": {
    "collapsed": false
   },
   "outputs": [
    {
     "data": {
      "text/plain": [
       "<function matplotlib.pyplot.show>"
      ]
     },
     "execution_count": 157,
     "metadata": {},
     "output_type": "execute_result"
    },
    {
     "data": {
      "image/png": "[encoded data removed]",
      "text/plain": [
       "<matplotlib.figure.Figure at 0x112556310>"
      ]
     },
     "metadata": {},
     "output_type": "display_data"
    }
   ],
   "source": [
    "alpha = 3.0\n",
    "L_min = 1.0\n",
    "L_max = 1000000.0\n",
    "n_per_pc3 = 1e-3 # /pc^3\n",
    "\n",
    "N_GRID_R = 10\n",
    "#R_grid = np.linspace(10, 300, N_GRID_R)\n",
    "R_grid = np.logspace(1, 3, N_GRID_R)\n",
    "\n",
    "\n",
    "Fmin = np.zeros(N_GRID_R)\n",
    "Fmax = np.zeros(N_GRID_R)\n",
    "expected_value = np.zeros(N_GRID_R)\n",
    "\n",
    "##################################\n",
    "for nn in xrange(N_GRID_R):\n",
    "\n",
    "    radius = R_grid[nn]\n",
    "\n",
    "    n_r = n_per_pc3 * ( 4. * np.pi * radius **2 )\n",
    "    totalnum = int(n_r)\n",
    "    \n",
    "    if (totalnum >= 1):\n",
    "        F_min = L2F(L_min, radius)\n",
    "        F_max = L2F(L_max, radius)\n",
    "        args = ( radius, alpha, F_min, F_max )\n",
    "    \n",
    "        func_prob = make_normalizedfunc(dnr_dF, F_min, F_max, *args)\n",
    "        expected_value[nn] = expected_max( func_prob, F_min, F_max, totalnum, *args )\n",
    "        Fmin[nn] =  L2F(L_min, radius)\n",
    "        Fmax[nn] =  L2F(L_max, radius)\n",
    "##################################\n",
    "\n",
    "plt.xlabel(\"radius\")\n",
    "plt.ylabel(\"exepcted value for maximum flux\")\n",
    "plt1 = plt.plot(R_grid, expected_value, 'k-', label='')\n",
    "plt2 = plt.plot(R_grid, Fmax, 'b--', label=r'$F_{\\rm max}$')\n",
    "plt3 = plt.plot(R_grid, Fmin, 'r--', label=r'$F_{\\rm min}$')\n",
    "plt.legend()\n",
    "plt.title(r\"$\\alpha = $\" + str(alpha))\n",
    "plt.xscale(\"log\")\n",
    "plt.yscale(\"log\")\n",
    "#plt.ylim(1e-5, 1)\n",
    "#plt.ylim(1e-2, 100)\n",
    "plt.ylim(1e-5, 1e3)\n",
    "plt.savefig(\"expectedvalues_alpha-\"+ str(int(alpha))+\"_Lmin-\"+str(int(L_min))+\"_Lmax-\"+str(int(L_max))+\"_Npc3-\"+str(n_per_pc3)+\".pdf\")\n",
    "plt.show"
   ]
  },
  {
   "cell_type": "code",
   "execution_count": null,
   "metadata": {
    "collapsed": true
   },
   "outputs": [],
   "source": [
    "alpha = 2.0\n",
    "L_min = 1.0\n",
    "L_max = 1000000.0\n",
    "n_per_pc3 = 1e-2 # /pc^3\n",
    "\n",
    "N_GRID_R = 10\n",
    "#R_grid = np.linspace(10, 300, N_GRID_R)\n",
    "R_grid = np.logspace(1, 3, N_GRID_R)\n",
    "\n",
    "\n",
    "Fmin = np.zeros(N_GRID_R)\n",
    "Fmax = np.zeros(N_GRID_R)\n",
    "expected_value = np.zeros(N_GRID_R)\n",
    "\n",
    "##################################\n",
    "for nn in xrange(N_GRID_R):\n",
    "\n",
    "    radius = R_grid[nn]\n",
    "\n",
    "    n_r = n_per_pc3 * ( 4. * np.pi * radius **2 )\n",
    "    totalnum = int(n_r)\n",
    "    \n",
    "    if (totalnum >= 1):\n",
    "        F_min = L2F(L_min, radius)\n",
    "        F_max = L2F(L_max, radius)\n",
    "        args = ( radius, alpha, F_min, F_max )\n",
    "    \n",
    "        func_prob = make_normalizedfunc(dnr_dF, F_min, F_max, *args)\n",
    "        expected_value[nn] = expected_max( func_prob, F_min, F_max, totalnum, *args )\n",
    "        Fmin[nn] =  L2F(L_min, radius)\n",
    "        Fmax[nn] =  L2F(L_max, radius)\n",
    "##################################\n",
    "\n",
    "plt.xlabel(\"radius\")\n",
    "plt.ylabel(\"exepcted value for maximum flux\")\n",
    "plt1 = plt.plot(R_grid, expected_value, 'k-', label='')\n",
    "plt2 = plt.plot(R_grid, Fmax, 'b--', label=r'$F_{\\rm max}$')\n",
    "plt3 = plt.plot(R_grid, Fmin, 'r--', label=r'$F_{\\rm min}$')\n",
    "plt.legend()\n",
    "plt.title(r\"$\\alpha = $\" + str(alpha))\n",
    "plt.xscale(\"log\")\n",
    "plt.yscale(\"log\")\n",
    "#plt.ylim(1e-5, 1)\n",
    "#plt.ylim(1e-2, 100)\n",
    "plt.ylim(1e-5, 1e3)\n",
    "plt.savefig(\"expectedvalues_alpha-\"+ str(int(alpha))+\"_Lmin-\"+str(int(L_min))+\"_Lmax-\"+str(int(L_max))+\"_Npc3-\"+str(n_per_pc3)+\".pdf\")\n",
    "plt.show"
   ]
  },
  {
   "cell_type": "code",
   "execution_count": 158,
   "metadata": {
    "collapsed": false
   },
   "outputs": [
    {
     "data": {
      "text/plain": [
       "<function matplotlib.pyplot.show>"
      ]
     },
     "execution_count": 158,
     "metadata": {},
     "output_type": "execute_result"
    },
    {
     "data": {
      "image/png": "[encoded data removed]",
      "text/plain": [
       "<matplotlib.figure.Figure at 0x112ff4e10>"
      ]
     },
     "metadata": {},
     "output_type": "display_data"
    }
   ],
   "source": [
    "alpha = 1.5\n",
    "L_min = 1.0\n",
    "L_max = 1000000.0\n",
    "n_per_pc3 = 1e-3 # /pc^3\n",
    "\n",
    "N_GRID_R = 10\n",
    "#R_grid = np.linspace(10, 300, N_GRID_R)\n",
    "R_grid = np.logspace(1, 3, N_GRID_R)\n",
    "\n",
    "\n",
    "Fmin = np.zeros(N_GRID_R)\n",
    "Fmax = np.zeros(N_GRID_R)\n",
    "expected_value = np.zeros(N_GRID_R)\n",
    "\n",
    "##################################\n",
    "for nn in xrange(N_GRID_R):\n",
    "\n",
    "    radius = R_grid[nn]\n",
    "\n",
    "    n_r = n_per_pc3 * ( 4. * np.pi * radius **2 )\n",
    "    totalnum = int(n_r)\n",
    "    \n",
    "    if (totalnum >= 1):\n",
    "        F_min = L2F(L_min, radius)\n",
    "        F_max = L2F(L_max, radius)\n",
    "        args = ( radius, alpha, F_min, F_max )\n",
    "    \n",
    "        func_prob = make_normalizedfunc(dnr_dF, F_min, F_max, *args)\n",
    "        expected_value[nn] = expected_max( func_prob, F_min, F_max, totalnum, *args )\n",
    "        Fmin[nn] =  L2F(L_min, radius)\n",
    "        Fmax[nn] =  L2F(L_max, radius)\n",
    "##################################\n",
    "\n",
    "plt.xlabel(\"radius\")\n",
    "plt.ylabel(\"exepcted value for maximum flux\")\n",
    "plt1 = plt.plot(R_grid, expected_value, 'k-', label='')\n",
    "plt2 = plt.plot(R_grid, Fmax, 'b--', label=r'$F_{\\rm max}$')\n",
    "plt3 = plt.plot(R_grid, Fmin, 'r--', label=r'$F_{\\rm min}$')\n",
    "plt.legend()\n",
    "plt.title(r\"$\\alpha = $\" + str(alpha))\n",
    "plt.xscale(\"log\")\n",
    "plt.yscale(\"log\")\n",
    "#plt.ylim(1e-5, 1)\n",
    "#plt.ylim(1e-2, 100)\n",
    "plt.ylim(1e-5, 1e3)\n",
    "plt.savefig(\"expectedvalues_alpha-\"+ str(int(alpha))+\"_Lmin-\"+str(int(L_min))+\"_Lmax-\"+str(int(L_max))+\"_Npc3-\"+str(n_per_pc3)+\".pdf\")\n",
    "plt.show"
   ]
  },
  {
   "cell_type": "code",
   "execution_count": 159,
   "metadata": {
    "collapsed": false
   },
   "outputs": [
    {
     "data": {
      "text/plain": [
       "<function matplotlib.pyplot.show>"
      ]
     },
     "execution_count": 159,
     "metadata": {},
     "output_type": "execute_result"
    },
    {
     "data": {
      "image/png": "[encoded data removed]",
      "text/plain": [
       "<matplotlib.figure.Figure at 0x1136693d0>"
      ]
     },
     "metadata": {},
     "output_type": "display_data"
    }
   ],
   "source": [
    "alpha = 1.0\n",
    "L_min = 1.0\n",
    "L_max = 1000000.0\n",
    "n_per_pc3 = 1e-3 # /pc^3\n",
    "\n",
    "N_GRID_R = 10\n",
    "#R_grid = np.linspace(10, 300, N_GRID_R)\n",
    "R_grid = np.logspace(1, 3, N_GRID_R)\n",
    "\n",
    "\n",
    "Fmin = np.zeros(N_GRID_R)\n",
    "Fmax = np.zeros(N_GRID_R)\n",
    "expected_value = np.zeros(N_GRID_R)\n",
    "\n",
    "##################################\n",
    "for nn in xrange(N_GRID_R):\n",
    "\n",
    "    radius = R_grid[nn]\n",
    "\n",
    "    n_r = n_per_pc3 * ( 4. * np.pi * radius **2 )\n",
    "    totalnum = int(n_r)\n",
    "    \n",
    "    if (totalnum >= 1):\n",
    "        F_min = L2F(L_min, radius)\n",
    "        F_max = L2F(L_max, radius)\n",
    "        args = ( radius, alpha, F_min, F_max )\n",
    "    \n",
    "        func_prob = make_normalizedfunc(dnr_dF, F_min, F_max, *args)\n",
    "        expected_value[nn] = expected_max( func_prob, F_min, F_max, totalnum, *args )\n",
    "        Fmin[nn] =  L2F(L_min, radius)\n",
    "        Fmax[nn] =  L2F(L_max, radius)\n",
    "##################################\n",
    "\n",
    "plt.xlabel(\"radius\")\n",
    "plt.ylabel(\"exepcted value for maximum flux\")\n",
    "plt1 = plt.plot(R_grid, expected_value, 'k-', label='')\n",
    "plt2 = plt.plot(R_grid, Fmax, 'b--', label=r'$F_{\\rm max}$')\n",
    "plt3 = plt.plot(R_grid, Fmin, 'r--', label=r'$F_{\\rm min}$')\n",
    "plt.legend()\n",
    "plt.title(r\"$\\alpha = $\" + str(alpha))\n",
    "plt.xscale(\"log\")\n",
    "plt.yscale(\"log\")\n",
    "plt.ylim(1e-5, 1e3)\n",
    "#plt.ylim(1e-2, 100)\n",
    "plt.savefig(\"expectedvalues_alpha-\"+ str(int(alpha))+\"_Lmin-\"+str(int(L_min))+\"_Lmax-\"+str(int(L_max))+\"_Npc3-\"+str(n_per_pc3)+\".pdf\")\n",
    "plt.show"
   ]
  },
  {
   "cell_type": "code",
   "execution_count": null,
   "metadata": {
    "collapsed": false
   },
   "outputs": [],
   "source": []
  },
  {
   "cell_type": "code",
   "execution_count": 21,
   "metadata": {
    "collapsed": false
   },
   "outputs": [
    {
     "data": {
      "text/plain": [
       "<function matplotlib.pyplot.show>"
      ]
     },
     "execution_count": 21,
     "metadata": {},
     "output_type": "execute_result"
    },
    {
     "data": {
      "image/png": "[encoded data removed]",
      "text/plain": [
       "<matplotlib.figure.Figure at 0x11251cdd0>"
      ]
     },
     "metadata": {},
     "output_type": "display_data"
    }
   ],
   "source": [
    "alpha = 1.5\n",
    "L_min = 1.0\n",
    "L_max = 1000000.0\n",
    "n_per_pc3 = 1e-3 # /pc^3\n",
    "\n",
    "N_GRID_R = 10\n",
    "#R_grid = np.linspace(10, 300, N_GRID_R)\n",
    "R_grid = np.logspace(1, 3, N_GRID_R)\n",
    "\n",
    "\n",
    "Fmin = np.zeros(N_GRID_R)\n",
    "Fmax = np.zeros(N_GRID_R)\n",
    "expected_value = np.zeros(N_GRID_R)\n",
    "\n",
    "##################################\n",
    "for nn in xrange(N_GRID_R):\n",
    "\n",
    "    radius = R_grid[nn]\n",
    "\n",
    "    n_r = n_per_pc3 * ( 4. * np.pi * radius **2 )\n",
    "#    print \"n_r\", n_r\n",
    "    F_min = L2F(L_min, radius)\n",
    "    F_max = L2F(L_max, radius)\n",
    "    args = ( radius, alpha, F_min, F_max )\n",
    "    \n",
    "    func_prob = make_normalizedfunc(dnr_dF, F_min, F_max, *args)\n",
    "    expected_value[nn] = expected_max( func_prob, F_min, F_max, n_r, *args )\n",
    "    Fmin[nn] =  L2F(L_min, radius)\n",
    "    Fmax[nn] =  L2F(L_max, radius)\n",
    "##################################\n",
    "\n",
    "plt.xlabel(\"radius\")\n",
    "plt.ylabel(\"exepcted value for maximum flux\")\n",
    "plt1 = plt.plot(R_grid, expected_value, label='')\n",
    "plt2 = plt.plot(R_grid, Fmax, label=r'$F_{\\rm max}$')\n",
    "plt3 = plt.plot(R_grid, Fmin, label=r'$F_{\\rm min}$')\n",
    "plt.legend()\n",
    "plt.title(r\"$\\alpha = $\" + str(alpha))\n",
    "plt.xscale(\"log\")\n",
    "plt.yscale(\"log\")\n",
    "plt.ylim(Fmin[-1], Fmax[0])\n",
    "plt.show"
   ]
  },
  {
   "cell_type": "code",
   "execution_count": 170,
   "metadata": {
    "collapsed": false
   },
   "outputs": [
    {
     "data": {
      "text/plain": [
       "<function matplotlib.pyplot.show>"
      ]
     },
     "execution_count": 170,
     "metadata": {},
     "output_type": "execute_result"
    },
    {
     "data": {
      "image/png": "[encoded data removed]",
      "text/plain": [
       "<matplotlib.figure.Figure at 0x112980a50>"
      ]
     },
     "metadata": {},
     "output_type": "display_data"
    }
   ],
   "source": [
    "alpha = 2.0\n",
    "L_min = 1.0\n",
    "L_max = 1000000.0\n",
    "n_per_pc3 = 1e-2 # /pc^3\n",
    "\n",
    "N_GRID_R = 10\n",
    "#R_grid = np.linspace(10, 300, N_GRID_R)\n",
    "R_grid = np.logspace(1, 3, N_GRID_R)\n",
    "\n",
    "\n",
    "Fmin = np.zeros(N_GRID_R)\n",
    "Fmax = np.zeros(N_GRID_R)\n",
    "expected_value = np.zeros(N_GRID_R)\n",
    "\n",
    "##################################\n",
    "for nn in xrange(N_GRID_R):\n",
    "\n",
    "    radius = R_grid[nn]\n",
    "\n",
    "    n_r = n_per_pc3 * ( 4. * np.pi * radius **2 )\n",
    "    totalnum = int(n_r)\n",
    "    \n",
    "    if (totalnum >= 1):\n",
    "        F_min = L2F(L_min, radius)\n",
    "        F_max = L2F(L_max, radius)\n",
    "        args = ( radius, alpha, F_min, F_max )\n",
    "    \n",
    "        func_prob = make_normalizedfunc(dnr_dF, F_min, F_max, *args)\n",
    "        expected_value[nn] = expected_max( func_prob, F_min, F_max, totalnum, *args )\n",
    "        Fmin[nn] =  L2F(L_min, radius)\n",
    "        Fmax[nn] =  L2F(L_max, radius)\n",
    "##################################\n",
    "\n",
    "plt.xlabel(\"radius\")\n",
    "plt.ylabel(\"exepcted value for maximum flux\")\n",
    "plt1 = plt.plot(R_grid, expected_value, 'k-', label='')\n",
    "plt2 = plt.plot(R_grid, Fmax, 'b--', label=r'$F_{\\rm max}$')\n",
    "plt3 = plt.plot(R_grid, Fmin, 'r--', label=r'$F_{\\rm min}$')\n",
    "plt.legend()\n",
    "plt.title(r\"$\\alpha = $\" + str(alpha))\n",
    "plt.xscale(\"log\")\n",
    "plt.yscale(\"log\")\n",
    "plt.ylim(1e-5, 1e3)\n",
    "#plt.ylim(1e-2, 100)\n",
    "plt.savefig(\"expectedvalues_alpha-\"+ str(int(alpha))+\"_Lmin-\"+str(int(L_min))+\"_Lmax-\"+str(int(L_max))+\"_Npc3-\"+str(n_per_pc3)+\".pdf\")\n",
    "plt.show"
   ]
  },
  {
   "cell_type": "code",
   "execution_count": null,
   "metadata": {
    "collapsed": true
   },
   "outputs": [],
   "source": []
  }
 ],
 "metadata": {
  "kernelspec": {
   "display_name": "Python 2",
   "language": "python",
   "name": "python2"
  },
  "language_info": {
   "codemirror_mode": {
    "name": "ipython",
    "version": 2
   },
   "file_extension": ".py",
   "mimetype": "text/x-python",
   "name": "python",
   "nbconvert_exporter": "python",
   "pygments_lexer": "ipython2",
   "version": "2.7.10"
  }
 },
 "nbformat": 4,
 "nbformat_minor": 0
}
